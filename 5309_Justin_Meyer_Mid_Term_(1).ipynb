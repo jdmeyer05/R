{
  "cells": [
    {
      "cell_type": "markdown",
      "id": "1f75fc22",
      "metadata": {
        "id": "1f75fc22"
      },
      "source": [
        "Installation of necessary packages, libraries and working directory"
      ]
    },
    {
      "cell_type": "code",
      "execution_count": null,
      "id": "6ed12afb",
      "metadata": {
        "collapsed": true,
        "id": "6ed12afb",
        "outputId": "3c6a5568-39c5-400f-ebaf-7df4a3f7c14c"
      },
      "outputs": [
        {
          "name": "stdout",
          "output_type": "stream",
          "text": [
            "\n",
            "  There is a binary version available but the source version is later:\n",
            "          binary source needs_compilation\n",
            "agricolae  1.3-3  1.3-5             FALSE\n",
            "\n"
          ]
        },
        {
          "name": "stderr",
          "output_type": "stream",
          "text": [
            "installing the source package 'agricolae'\n",
            "\n",
            "also installing the dependencies 'estimability', 'mvtnorm', 'emmeans'\n",
            "\n"
          ]
        },
        {
          "name": "stdout",
          "output_type": "stream",
          "text": [
            "\n",
            "  There are binary versions available but the source versions are later:\n",
            "        binary source needs_compilation\n",
            "mvtnorm  1.1-1  1.1-3              TRUE\n",
            "emmeans  1.6.0  1.7.3             FALSE\n",
            "\n",
            "  Binaries will be installed\n",
            "package 'estimability' successfully unpacked and MD5 sums checked\n",
            "package 'mvtnorm' successfully unpacked and MD5 sums checked\n",
            "package 'lsmeans' successfully unpacked and MD5 sums checked\n",
            "\n",
            "The downloaded binary packages are in\n",
            "\tC:\\Users\\jdmey\\AppData\\Local\\Temp\\RtmpaESyES\\downloaded_packages\n"
          ]
        },
        {
          "name": "stderr",
          "output_type": "stream",
          "text": [
            "installing the source package 'emmeans'\n",
            "\n"
          ]
        },
        {
          "name": "stdout",
          "output_type": "stream",
          "text": [
            "\n",
            "  There is a binary version available but the source version is later:\n",
            "        binary source needs_compilation\n",
            "emmeans  1.6.0  1.7.3             FALSE\n",
            "\n"
          ]
        },
        {
          "name": "stderr",
          "output_type": "stream",
          "text": [
            "installing the source package 'emmeans'\n",
            "\n"
          ]
        }
      ],
      "source": [
        "# Installation of needed packages\n",
        "install.packages('agricolae')\n",
        "install.packages(\"lsmeans\")\n",
        "install.packages(\"emmeans\")\n",
        "install.packages(\"daewr\")"
      ]
    },
    {
      "cell_type": "code",
      "execution_count": null,
      "id": "37398d76",
      "metadata": {
        "collapsed": true,
        "id": "37398d76",
        "outputId": "fee8713f-7754-44c3-d142-0b3d2258d83a"
      },
      "outputs": [
        {
          "name": "stderr",
          "output_type": "stream",
          "text": [
            "Warning message:\n",
            "\"package 'lsmeans' was built under R version 3.6.3\"Loading required package: emmeans\n",
            "The 'lsmeans' package is now basically a front end for 'emmeans'.\n",
            "Users are encouraged to switch the rest of the way.\n",
            "See help('transition') for more information, including how to\n",
            "convert old 'lsmeans' objects and scripts to work with 'emmeans'.\n"
          ]
        }
      ],
      "source": [
        "# Activation of needed libraries\n",
        "library('agricolae')\n",
        "library('lsmeans')\n",
        "library('emmeans')\n",
        "library(\"daewr\")"
      ]
    },
    {
      "cell_type": "code",
      "execution_count": null,
      "id": "4b6dd5b5",
      "metadata": {
        "id": "4b6dd5b5",
        "outputId": "87fba71e-fef2-4a57-f139-38c5b5788c47"
      },
      "outputs": [
        {
          "data": {
            "text/html": [
              "'C:/Users/jdmey/Documents/STAT 5309'"
            ],
            "text/latex": [
              "'C:/Users/jdmey/Documents/STAT 5309'"
            ],
            "text/markdown": [
              "'C:/Users/jdmey/Documents/STAT 5309'"
            ],
            "text/plain": [
              "[1] \"C:/Users/jdmey/Documents/STAT 5309\""
            ]
          },
          "metadata": {},
          "output_type": "display_data"
        }
      ],
      "source": [
        "# Set the working directory\n",
        "setwd(\"C:/Users/jdmey/Documents/STAT 5309\")\n",
        "getwd()"
      ]
    },
    {
      "cell_type": "markdown",
      "id": "962e9234",
      "metadata": {
        "id": "962e9234"
      },
      "source": [
        "**Question 1**"
      ]
    },
    {
      "cell_type": "markdown",
      "id": "c4b516f5",
      "metadata": {
        "id": "c4b516f5"
      },
      "source": [
        "Four different designs for a digital computer circuit are being studied to compare the amount of noise present. The following data have been obtained."
      ]
    },
    {
      "cell_type": "code",
      "execution_count": null,
      "id": "8c7ec32d",
      "metadata": {
        "id": "8c7ec32d",
        "outputId": "b72ff80f-b9a5-4066-94b4-0c285ba74715"
      },
      "outputs": [
        {
          "data": {
            "text/html": [
              "<table>\n",
              "<thead><tr><th scope=col>Circuit_Design</th><th scope=col>Noise</th></tr></thead>\n",
              "<tbody>\n",
              "\t<tr><td>1 </td><td>19</td></tr>\n",
              "\t<tr><td>1 </td><td>20</td></tr>\n",
              "\t<tr><td>1 </td><td>19</td></tr>\n",
              "\t<tr><td>1 </td><td>30</td></tr>\n",
              "\t<tr><td>1 </td><td> 8</td></tr>\n",
              "\t<tr><td>2 </td><td>80</td></tr>\n",
              "</tbody>\n",
              "</table>\n"
            ],
            "text/latex": [
              "\\begin{tabular}{r|ll}\n",
              " Circuit\\_Design & Noise\\\\\n",
              "\\hline\n",
              "\t 1  & 19\\\\\n",
              "\t 1  & 20\\\\\n",
              "\t 1  & 19\\\\\n",
              "\t 1  & 30\\\\\n",
              "\t 1  &  8\\\\\n",
              "\t 2  & 80\\\\\n",
              "\\end{tabular}\n"
            ],
            "text/markdown": [
              "\n",
              "| Circuit_Design | Noise |\n",
              "|---|---|\n",
              "| 1  | 19 |\n",
              "| 1  | 20 |\n",
              "| 1  | 19 |\n",
              "| 1  | 30 |\n",
              "| 1  |  8 |\n",
              "| 2  | 80 |\n",
              "\n"
            ],
            "text/plain": [
              "  Circuit_Design Noise\n",
              "1 1              19   \n",
              "2 1              20   \n",
              "3 1              19   \n",
              "4 1              30   \n",
              "5 1               8   \n",
              "6 2              80   "
            ]
          },
          "metadata": {},
          "output_type": "display_data"
        }
      ],
      "source": [
        "# Data set up\n",
        "Circuit_Design <- c(1,1,1,1,1,2,2,2,2,2,3,3,3,3,3,4,4,4,4,4) # Sets up data vector for the Circuit Design column\n",
        "Circuit_Design <- factor(Circuit_Design) # Factorizes the Circuit Design vector\n",
        "Noise <- c(19,20,19,30,8,80,61,73,56,80,47,26,25,35,50,95,46,83,78,97) # Set up data vector for the Noise column\n",
        "Circuit <- data.frame(cbind(Circuit_Design,Noise)) # Combines and converts to data frame\n",
        "head(Circuit)"
      ]
    },
    {
      "cell_type": "code",
      "execution_count": null,
      "id": "0acac4f1",
      "metadata": {
        "id": "0acac4f1",
        "outputId": "2f55062f-61da-44be-f04b-bdc5bd58869b"
      },
      "outputs": [
        {
          "data": {
            "text/plain": [
              "Call:\n",
              "   aov(formula = Noise ~ Circuit_Design, data = Circuit)\n",
              "\n",
              "Terms:\n",
              "                Circuit_Design Residuals\n",
              "Sum of Squares         5505.64   9485.16\n",
              "Deg. of Freedom              1        18\n",
              "\n",
              "Residual standard error: 22.95546\n",
              "Estimated effects may be unbalanced"
            ]
          },
          "metadata": {},
          "output_type": "display_data"
        },
        {
          "data": {
            "text/plain": [
              "               Df Sum Sq Mean Sq F value  Pr(>F)   \n",
              "Circuit_Design  1   5506    5506   10.45 0.00462 **\n",
              "Residuals      18   9485     527                   \n",
              "---\n",
              "Signif. codes:  0 '***' 0.001 '**' 0.01 '*' 0.05 '.' 0.1 ' ' 1"
            ]
          },
          "metadata": {},
          "output_type": "display_data"
        }
      ],
      "source": [
        "# Create Analysis of Variance model\n",
        "model1 <- aov(Noise ~ Circuit_Design, data=Circuit)\n",
        "model1\n",
        "summary(model1) # Output the summary for model 1"
      ]
    },
    {
      "cell_type": "markdown",
      "id": "4a39f63b",
      "metadata": {
        "id": "4a39f63b"
      },
      "source": [
        "We can see from the p-value of the F-value that the circuit design does in fact have an inpact on the amount of noise found in the experiment"
      ]
    },
    {
      "cell_type": "code",
      "execution_count": null,
      "id": "8d56cfd0",
      "metadata": {
        "scrolled": true,
        "id": "8d56cfd0",
        "outputId": "06ae0177-a22a-45eb-bc74-96be74b78735"
      },
      "outputs": [
        {
          "data": {
            "image/png": "[encoded data removed]",
            "text/plain": [
              "plot without title"
            ]
          },
          "metadata": {},
          "output_type": "display_data"
        }
      ],
      "source": [
        "plot(model1$residuals) # Plots the residuals for model 1"
      ]
    },
    {
      "cell_type": "markdown",
      "id": "cac767c9",
      "metadata": {
        "id": "cac767c9"
      },
      "source": [
        "The residuals appear to be randomly distributed and structureless."
      ]
    },
    {
      "cell_type": "code",
      "execution_count": null,
      "id": "dba83b77",
      "metadata": {
        "scrolled": true,
        "id": "dba83b77",
        "outputId": "3d53107e-980d-480a-c69a-a36bb1b066d2"
      },
      "outputs": [
        {
          "data": {
            "image/png": "[encoded data removed]",
            "text/plain": [
              "plot without title"
            ]
          },
          "metadata": {},
          "output_type": "display_data"
        }
      ],
      "source": [
        "boxplot(Noise ~ Circuit_Design, data = Circuit) # Creates a boxplot for Noise given Circuit Design factor"
      ]
    },
    {
      "cell_type": "markdown",
      "id": "111a6983",
      "metadata": {
        "id": "111a6983"
      },
      "source": [
        "It is clear that the means and distributions of the 4 different designs are probably not the same"
      ]
    },
    {
      "cell_type": "markdown",
      "id": "2af27156",
      "metadata": {
        "id": "2af27156"
      },
      "source": [
        "**Is the amount of noise present the same for all four designs? Use alpha = 0.05**\n",
        "\n",
        "No.\n",
        "\n",
        "The amount of noise in each design is not the same. With a p-value of 0.00462 we reject the null hypothesis that all means are the same."
      ]
    },
    {
      "cell_type": "markdown",
      "id": "f9f6002f",
      "metadata": {
        "id": "f9f6002f"
      },
      "source": [
        "**Analyze the residuals from this experiment. Are the analysis of variance assumptions satisfied?**\n",
        "\n",
        "Yes.\n",
        "\n",
        "If we plot the residuals it is clear that they are randomly distributed and structureless. If we plot a QQ we can see that the residuals follow the line of normality."
      ]
    },
    {
      "cell_type": "markdown",
      "id": "a8a96cc8",
      "metadata": {
        "id": "a8a96cc8"
      },
      "source": [
        "**Which circuit design would you select for use? Low noise is best.**\n",
        "\n",
        "We can tell from the box plot of the different designs that design 1 produces the lowest noise. I would choose design 1."
      ]
    },
    {
      "cell_type": "markdown",
      "id": "4bd953dd",
      "metadata": {
        "id": "4bd953dd"
      },
      "source": [
        "-----------------------------------------------------------------------------------------------------------------"
      ]
    },
    {
      "cell_type": "markdown",
      "id": "12ddd14c",
      "metadata": {
        "id": "12ddd14c"
      },
      "source": [
        "**Question 2**"
      ]
    },
    {
      "cell_type": "markdown",
      "id": "d13709fc",
      "metadata": {
        "id": "d13709fc"
      },
      "source": [
        "Three brands of batteries are under study. It is suspected that the lives (in weeks) of the three brands are different. Five batteries of each brand are tested with the following results:"
      ]
    },
    {
      "cell_type": "markdown",
      "id": "a67c4719",
      "metadata": {
        "id": "a67c4719"
      },
      "source": [
        "This is a single factor design with 3 levels"
      ]
    },
    {
      "cell_type": "code",
      "execution_count": null,
      "id": "9348ef39",
      "metadata": {
        "scrolled": true,
        "id": "9348ef39",
        "outputId": "b89bbd54-4448-4d29-a7f0-d1bafdd5b771"
      },
      "outputs": [
        {
          "data": {
            "text/html": [
              "<table>\n",
              "<thead><tr><th scope=col>Brand</th><th scope=col>data</th></tr></thead>\n",
              "<tbody>\n",
              "\t<tr><td>1  </td><td>100</td></tr>\n",
              "\t<tr><td>1  </td><td> 96</td></tr>\n",
              "\t<tr><td>1  </td><td> 92</td></tr>\n",
              "\t<tr><td>1  </td><td> 96</td></tr>\n",
              "\t<tr><td>1  </td><td> 92</td></tr>\n",
              "\t<tr><td>2  </td><td> 76</td></tr>\n",
              "\t<tr><td>2  </td><td> 80</td></tr>\n",
              "\t<tr><td>2  </td><td> 75</td></tr>\n",
              "\t<tr><td>2  </td><td> 84</td></tr>\n",
              "\t<tr><td>2  </td><td> 82</td></tr>\n",
              "\t<tr><td>3  </td><td>108</td></tr>\n",
              "\t<tr><td>3  </td><td>100</td></tr>\n",
              "\t<tr><td>3  </td><td> 96</td></tr>\n",
              "\t<tr><td>3  </td><td> 98</td></tr>\n",
              "\t<tr><td>3  </td><td>100</td></tr>\n",
              "</tbody>\n",
              "</table>\n"
            ],
            "text/latex": [
              "\\begin{tabular}{r|ll}\n",
              " Brand & data\\\\\n",
              "\\hline\n",
              "\t 1   & 100\\\\\n",
              "\t 1   &  96\\\\\n",
              "\t 1   &  92\\\\\n",
              "\t 1   &  96\\\\\n",
              "\t 1   &  92\\\\\n",
              "\t 2   &  76\\\\\n",
              "\t 2   &  80\\\\\n",
              "\t 2   &  75\\\\\n",
              "\t 2   &  84\\\\\n",
              "\t 2   &  82\\\\\n",
              "\t 3   & 108\\\\\n",
              "\t 3   & 100\\\\\n",
              "\t 3   &  96\\\\\n",
              "\t 3   &  98\\\\\n",
              "\t 3   & 100\\\\\n",
              "\\end{tabular}\n"
            ],
            "text/markdown": [
              "\n",
              "| Brand | data |\n",
              "|---|---|\n",
              "| 1   | 100 |\n",
              "| 1   |  96 |\n",
              "| 1   |  92 |\n",
              "| 1   |  96 |\n",
              "| 1   |  92 |\n",
              "| 2   |  76 |\n",
              "| 2   |  80 |\n",
              "| 2   |  75 |\n",
              "| 2   |  84 |\n",
              "| 2   |  82 |\n",
              "| 3   | 108 |\n",
              "| 3   | 100 |\n",
              "| 3   |  96 |\n",
              "| 3   |  98 |\n",
              "| 3   | 100 |\n",
              "\n"
            ],
            "text/plain": [
              "   Brand data\n",
              "1  1     100 \n",
              "2  1      96 \n",
              "3  1      92 \n",
              "4  1      96 \n",
              "5  1      92 \n",
              "6  2      76 \n",
              "7  2      80 \n",
              "8  2      75 \n",
              "9  2      84 \n",
              "10 2      82 \n",
              "11 3     108 \n",
              "12 3     100 \n",
              "13 3      96 \n",
              "14 3      98 \n",
              "15 3     100 "
            ]
          },
          "metadata": {},
          "output_type": "display_data"
        }
      ],
      "source": [
        "# Set up the Dataframe along with needed vectors\n",
        "Brand <- c(1,1,1,1,1,2,2,2,2,2,3,3,3,3,3)\n",
        "Brand_simple <- c(1,2,3)\n",
        "data <- c(100,96,92,96,92,76,80,75,84,82,108,100,96,98,100)\n",
        "brand1 <- c(100,96,92,96,92)\n",
        "brand2 <- c(76,80,75,84,82)\n",
        "brand3 <- c(108,100,96,98,100)\n",
        "total_brand <- cbind(brand1,brand2,brand3)\n",
        "batteries <- data.frame(cbind(Brand,data))\n",
        "head(batteries)"
      ]
    },
    {
      "cell_type": "code",
      "execution_count": null,
      "id": "b5262cfb",
      "metadata": {
        "scrolled": true,
        "id": "b5262cfb",
        "outputId": "932af712-9fcf-4bbb-8128-87a729828c82"
      },
      "outputs": [
        {
          "data": {
            "text/html": [
              "<dl class=dl-horizontal>\n",
              "\t<dt>brand1</dt>\n",
              "\t\t<dd>95.2</dd>\n",
              "\t<dt>brand2</dt>\n",
              "\t\t<dd>79.4</dd>\n",
              "\t<dt>brand3</dt>\n",
              "\t\t<dd>100.4</dd>\n",
              "</dl>\n"
            ],
            "text/latex": [
              "\\begin{description*}\n",
              "\\item[brand1] 95.2\n",
              "\\item[brand2] 79.4\n",
              "\\item[brand3] 100.4\n",
              "\\end{description*}\n"
            ],
            "text/markdown": [
              "brand1\n",
              ":   95.2brand2\n",
              ":   79.4brand3\n",
              ":   100.4\n",
              "\n"
            ],
            "text/plain": [
              "brand1 brand2 brand3 \n",
              "  95.2   79.4  100.4 "
            ]
          },
          "metadata": {},
          "output_type": "display_data"
        },
        {
          "data": {
            "image/png": "[encoded data removed]",
            "text/plain": [
              "plot without title"
            ]
          },
          "metadata": {},
          "output_type": "display_data"
        },
        {
          "data": {
            "image/png": "[encoded data removed]",
            "text/plain": [
              "plot without title"
            ]
          },
          "metadata": {},
          "output_type": "display_data"
        }
      ],
      "source": [
        "# Boxplot and Stripchart\n",
        "boxplot(data~Brand,data=batteries)\n",
        "means <- apply(total_brand,2,mean)\n",
        "means\n",
        "stripchart(data~Brand,data=batteries, xlab = \"Brand\", vertical = TRUE, pch=6)\n",
        "lines(means)"
      ]
    },
    {
      "cell_type": "code",
      "execution_count": null,
      "id": "d533027e",
      "metadata": {
        "scrolled": true,
        "id": "d533027e",
        "outputId": "2497dc2a-aa01-40ab-807e-8ed40e5681c9"
      },
      "outputs": [
        {
          "data": {
            "text/plain": [
              "Call:\n",
              "   aov(formula = data ~ Brand, data = batteries)\n",
              "\n",
              "Terms:\n",
              "                   Brand Residuals\n",
              "Sum of Squares    67.600  1315.733\n",
              "Deg. of Freedom        1        13\n",
              "\n",
              "Residual standard error: 10.06033\n",
              "Estimated effects may be unbalanced"
            ]
          },
          "metadata": {},
          "output_type": "display_data"
        },
        {
          "data": {
            "text/plain": [
              "            Df Sum Sq Mean Sq F value Pr(>F)\n",
              "Brand        1   67.6    67.6   0.668  0.429\n",
              "Residuals   13 1315.7   101.2               "
            ]
          },
          "metadata": {},
          "output_type": "display_data"
        },
        {
          "data": {
            "image/png": "[encoded data removed]",
            "text/plain": [
              "plot without title"
            ]
          },
          "metadata": {},
          "output_type": "display_data"
        }
      ],
      "source": [
        "# ANOVA model and summary\n",
        "model2 <- aov(data ~ Brand, data = batteries)\n",
        "model2\n",
        "summary(model2)\n",
        "plot(model2$residuals)"
      ]
    },
    {
      "cell_type": "code",
      "execution_count": null,
      "id": "01d17bae",
      "metadata": {
        "id": "01d17bae",
        "outputId": "207536ca-db1c-4bb7-bf0b-09a25ed7f013"
      },
      "outputs": [
        {
          "data": {
            "text/html": [
              "82.2205172420422"
            ],
            "text/latex": [
              "82.2205172420422"
            ],
            "text/markdown": [
              "82.2205172420422"
            ],
            "text/plain": [
              "[1] 82.22052"
            ]
          },
          "metadata": {},
          "output_type": "display_data"
        },
        {
          "data": {
            "text/html": [
              "76.5794827579578"
            ],
            "text/latex": [
              "76.5794827579578"
            ],
            "text/markdown": [
              "76.5794827579578"
            ],
            "text/plain": [
              "[1] 76.57948"
            ]
          },
          "metadata": {},
          "output_type": "display_data"
        }
      ],
      "source": [
        "# CI part 1\n",
        "brand2 <- c(76,80,75,84,82)\n",
        "brand2_mean <- mean(brand2)\n",
        "brand2_sd <- sd(brand2)\n",
        "margin <- qt(0.975,df=length(5-1)*brand2_sd/sqrt(length(5)))\n",
        "sample_CI_High <- brand2_mean+margin\n",
        "sample_CI_Low <- brand2_mean-margin\n",
        "sample_CI_High\n",
        "sample_CI_Low"
      ]
    },
    {
      "cell_type": "code",
      "execution_count": null,
      "id": "2ff81e22",
      "metadata": {
        "id": "2ff81e22",
        "outputId": "0fbd61af-e0e3-4061-d63a-f004a1877f1f"
      },
      "outputs": [
        {
          "data": {
            "text/html": [
              "23.7436643724953"
            ],
            "text/latex": [
              "23.7436643724953"
            ],
            "text/markdown": [
              "23.7436643724953"
            ],
            "text/plain": [
              "[1] 23.74366"
            ]
          },
          "metadata": {},
          "output_type": "display_data"
        },
        {
          "data": {
            "text/html": [
              "18.2563356275047"
            ],
            "text/latex": [
              "18.2563356275047"
            ],
            "text/markdown": [
              "18.2563356275047"
            ],
            "text/plain": [
              "[1] 18.25634"
            ]
          },
          "metadata": {},
          "output_type": "display_data"
        }
      ],
      "source": [
        "# CI part 2\n",
        "brand3 <- c(108,100,96,98,100)\n",
        "brand_diff <- abs(brand2-brand3)\n",
        "brand_diff_mean <- mean(brand_diff)\n",
        "brand_diff_sd <- sd(brand_diff)\n",
        "margin <- qt(0.985,df=length(5-1)*brand_diff_sd/sqrt(length(5)))\n",
        "brand_diff_mean_sample_CI_High <- brand_diff_mean+margin\n",
        "brand_diff_mean_sample_CI_Low <- brand_diff_mean-margin\n",
        "brand_diff_mean_sample_CI_High\n",
        "brand_diff_mean_sample_CI_Low"
      ]
    },
    {
      "cell_type": "markdown",
      "id": "c2dfee67",
      "metadata": {
        "id": "c2dfee67"
      },
      "source": [
        "**Are the lives of these brands of batteries different?**\n",
        "\n",
        "No.\n",
        "\n",
        "These lives of these brands of batteries are not significantly different at a .05 alpha level"
      ]
    },
    {
      "cell_type": "markdown",
      "id": "82bdae48",
      "metadata": {
        "id": "82bdae48"
      },
      "source": [
        "-----------------------------------------------------------------------------------------------------------------"
      ]
    },
    {
      "cell_type": "markdown",
      "id": "d6c31f4f",
      "metadata": {
        "id": "d6c31f4f"
      },
      "source": [
        "**Question 3**"
      ]
    },
    {
      "cell_type": "markdown",
      "id": "25acf10e",
      "metadata": {
        "id": "25acf10e"
      },
      "source": [
        "Johnson and Leone describe an experiment to investrigate warping of copper plates. The two factores studied were the temperature and the copper content of the plates. The response variable was a measure of the amount of warping. The data were as follows:"
      ]
    },
    {
      "cell_type": "code",
      "execution_count": null,
      "id": "1c415ecc",
      "metadata": {
        "id": "1c415ecc"
      },
      "outputs": [],
      "source": [
        "# Read in data from working directory\n",
        "data <- read.csv('Mid Term Question 3.csv')"
      ]
    },
    {
      "cell_type": "code",
      "execution_count": null,
      "id": "405a6c9e",
      "metadata": {
        "id": "405a6c9e"
      },
      "outputs": [],
      "source": [
        "# Construct the data frame and needed vectors\n",
        "plates <- data\n",
        "Warping  <- plates$Warping\n",
        "Temperature  <- plates$Temperature\n",
        "Copper.Content <- factor(plates$Copper.Content)"
      ]
    },
    {
      "cell_type": "code",
      "execution_count": null,
      "id": "a5043621",
      "metadata": {
        "scrolled": true,
        "id": "a5043621",
        "outputId": "dcfa3a08-0964-449a-f155-12d7458df590"
      },
      "outputs": [
        {
          "data": {
            "text/html": [
              "<table>\n",
              "<thead><tr><th scope=col>Copper.Content</th><th scope=col>Temperature</th><th scope=col>Warping</th></tr></thead>\n",
              "<tbody>\n",
              "\t<tr><td>40</td><td>50</td><td>17</td></tr>\n",
              "\t<tr><td>40</td><td>50</td><td>20</td></tr>\n",
              "\t<tr><td>60</td><td>50</td><td>16</td></tr>\n",
              "\t<tr><td>60</td><td>50</td><td>21</td></tr>\n",
              "\t<tr><td>80</td><td>50</td><td>24</td></tr>\n",
              "\t<tr><td>80</td><td>50</td><td>22</td></tr>\n",
              "</tbody>\n",
              "</table>\n"
            ],
            "text/latex": [
              "\\begin{tabular}{r|lll}\n",
              " Copper.Content & Temperature & Warping\\\\\n",
              "\\hline\n",
              "\t 40 & 50 & 17\\\\\n",
              "\t 40 & 50 & 20\\\\\n",
              "\t 60 & 50 & 16\\\\\n",
              "\t 60 & 50 & 21\\\\\n",
              "\t 80 & 50 & 24\\\\\n",
              "\t 80 & 50 & 22\\\\\n",
              "\\end{tabular}\n"
            ],
            "text/markdown": [
              "\n",
              "| Copper.Content | Temperature | Warping |\n",
              "|---|---|---|\n",
              "| 40 | 50 | 17 |\n",
              "| 40 | 50 | 20 |\n",
              "| 60 | 50 | 16 |\n",
              "| 60 | 50 | 21 |\n",
              "| 80 | 50 | 24 |\n",
              "| 80 | 50 | 22 |\n",
              "\n"
            ],
            "text/plain": [
              "  Copper.Content Temperature Warping\n",
              "1 40             50          17     \n",
              "2 40             50          20     \n",
              "3 60             50          16     \n",
              "4 60             50          21     \n",
              "5 80             50          24     \n",
              "6 80             50          22     "
            ]
          },
          "metadata": {},
          "output_type": "display_data"
        }
      ],
      "source": [
        "head(plates)"
      ]
    },
    {
      "cell_type": "code",
      "execution_count": null,
      "id": "1dbf6ba1",
      "metadata": {
        "scrolled": true,
        "id": "1dbf6ba1",
        "outputId": "6e68112b-833c-47dd-83c0-0b6e21be56e9"
      },
      "outputs": [
        {
          "data": {
            "text/plain": [
              "Call:\n",
              "   aov(formula = Warping ~ Temperature + Copper.Content + Temperature * \n",
              "    Copper.Content, data = plates)\n",
              "\n",
              "Terms:\n",
              "                Temperature Copper.Content Temperature:Copper.Content Residuals\n",
              "Sum of Squares      26.4063       652.0563                     0.2112  398.0450\n",
              "Deg. of Freedom           1              1                          1        28\n",
              "\n",
              "Residual standard error: 3.770397\n",
              "Estimated effects may be unbalanced"
            ]
          },
          "metadata": {},
          "output_type": "display_data"
        },
        {
          "data": {
            "text/plain": [
              "                           Df Sum Sq Mean Sq F value   Pr(>F)    \n",
              "Temperature                 1   26.4    26.4   1.858    0.184    \n",
              "Copper.Content              1  652.1   652.1  45.868 2.35e-07 ***\n",
              "Temperature:Copper.Content  1    0.2     0.2   0.015    0.904    \n",
              "Residuals                  28  398.0    14.2                     \n",
              "---\n",
              "Signif. codes:  0 '***' 0.001 '**' 0.01 '*' 0.05 '.' 0.1 ' ' 1"
            ]
          },
          "metadata": {},
          "output_type": "display_data"
        },
        {
          "data": {
            "image/png": "[encoded data removed]",
            "text/plain": [
              "plot without title"
            ]
          },
          "metadata": {},
          "output_type": "display_data"
        },
        {
          "data": {
            "text/plain": [
              "\n",
              "\tBartlett test of homogeneity of variances\n",
              "\n",
              "data:  res by Temperature\n",
              "Bartlett's K-squared = 5.0387, df = 3, p-value = 0.169\n"
            ]
          },
          "metadata": {},
          "output_type": "display_data"
        },
        {
          "data": {
            "image/png": "[encoded data removed]",
            "text/plain": [
              "Plot with title \"Normal Q-Q Plot\""
            ]
          },
          "metadata": {},
          "output_type": "display_data"
        }
      ],
      "source": [
        "# Fit and summerizes model\n",
        "model3 <- aov(Warping ~ Temperature + Copper.Content + Temperature*Copper.Content, data=plates)\n",
        "model3\n",
        "res <- model3$residuals\n",
        "summary(model3)\n",
        "plot(model3$residuals)\n",
        "qqnorm(model3$residuals)\n",
        "qqline(model3$residuals)\n",
        "bartlett.test(res ~ Temperature)"
      ]
    },
    {
      "cell_type": "code",
      "execution_count": null,
      "id": "2c454117",
      "metadata": {
        "scrolled": true,
        "id": "2c454117",
        "outputId": "02b47e35-7211-4c2a-8a1b-85f94333283b"
      },
      "outputs": [
        {
          "data": {
            "image/png": "[encoded data removed]",
            "text/plain": [
              "plot without title"
            ]
          },
          "metadata": {},
          "output_type": "display_data"
        },
        {
          "data": {
            "image/png": "[encoded data removed]",
            "text/plain": [
              "plot without title"
            ]
          },
          "metadata": {},
          "output_type": "display_data"
        }
      ],
      "source": [
        "# Check for interactions between factors by plotting the interactions plots\n",
        "interaction.plot(Copper.Content,Temperature,Warping,type=\"b\",pch=19,fixed=T)\n",
        "interaction.plot(Temperature,Copper.Content,Warping,type=\"b\",pch=19,fixed=T)"
      ]
    },
    {
      "cell_type": "code",
      "execution_count": null,
      "id": "e6f8407f",
      "metadata": {
        "id": "e6f8407f",
        "outputId": "59da7ac8-a064-45bb-c561-f8b3501c543b"
      },
      "outputs": [
        {
          "data": {
            "image/png": "[encoded data removed]",
            "text/plain": [
              "Plot with title \"Warping vs Temperature\""
            ]
          },
          "metadata": {},
          "output_type": "display_data"
        },
        {
          "data": {
            "image/png": "[encoded data removed]",
            "text/plain": [
              "Plot with title \"Warping vs Copper Content\""
            ]
          },
          "metadata": {},
          "output_type": "display_data"
        },
        {
          "data": {
            "image/png": "[encoded data removed]",
            "text/plain": [
              "Plot with title \"Warping vs Copper Content*Temperature\""
            ]
          },
          "metadata": {},
          "output_type": "display_data"
        }
      ],
      "source": [
        "# Explore the data set using boxplots\n",
        "boxplot(Warping ~ Temperature,main=\"Warping vs Temperature\")\n",
        "boxplot(Warping ~ Copper.Content,main=\"Warping vs Copper Content\")\n",
        "boxplot(Warping ~ Copper.Content*Temperature,main=\"Warping vs Copper Content*Temperature\")"
      ]
    },
    {
      "cell_type": "markdown",
      "id": "cf7c5f0e",
      "metadata": {
        "id": "cf7c5f0e"
      },
      "source": [
        "**Build a regression model using aov(). Is there any indication that either factor affects the amount of warping?**\n",
        "\n",
        "Yes.\n",
        "\n",
        "We can see from the aov summary that Copper Content has a significant impact on warping when measured at the .05 alpha level."
      ]
    },
    {
      "cell_type": "markdown",
      "id": "c1e1728f",
      "metadata": {
        "id": "c1e1728f"
      },
      "source": [
        "**Is there any interaction between the factors. Use alpha = 0.05**\n",
        "\n",
        "Yes.\n",
        "\n",
        "We can see from the interaction plots that there are several places where the factors interact. However, these interactions do not appear to have a significant impact on the response variable."
      ]
    },
    {
      "cell_type": "markdown",
      "id": "1c8928ef",
      "metadata": {
        "id": "1c8928ef"
      },
      "source": [
        "**Do a Box plot on Temperature, on Content and on Temperature * Content. Which level combination give the lowest warpage?**\n",
        "\n",
        "A copper content of 40 with a temperature of 75 degrees gives the lowest average warpage."
      ]
    },
    {
      "cell_type": "markdown",
      "id": "f38009ba",
      "metadata": {
        "id": "f38009ba"
      },
      "source": [
        "**Suppose Temperature cannot be controlled in where the copper plate are used, which Content gives the smallest warpage?**\n",
        "\n",
        "75 degrees celsius gives the smallest warpage"
      ]
    },
    {
      "cell_type": "markdown",
      "id": "83c43526",
      "metadata": {
        "id": "83c43526"
      },
      "source": [
        "**Perform a 3-part residuals assumption check of the aov model. (Do not use plot(model))**\n",
        "\n",
        "The residuals appear to be structureless, normally distributed and independent"
      ]
    },
    {
      "cell_type": "markdown",
      "id": "56ab8b6b",
      "metadata": {
        "id": "56ab8b6b"
      },
      "source": [
        "-----------------------------------------------------------------------------------------------------------------"
      ]
    },
    {
      "cell_type": "markdown",
      "id": "79b63679",
      "metadata": {
        "id": "79b63679"
      },
      "source": [
        "**Question 4**"
      ]
    },
    {
      "cell_type": "markdown",
      "id": "f76840ef",
      "metadata": {
        "id": "f76840ef"
      },
      "source": [
        "An experiment is conductd to study the influence of the operating temperature and three types of face-plate glass in the light output of an oscilloscope. The following data are collected:"
      ]
    },
    {
      "cell_type": "code",
      "execution_count": null,
      "id": "eabb6433",
      "metadata": {
        "id": "eabb6433"
      },
      "outputs": [],
      "source": [
        "# Call data from the working directory\n",
        "data <- read.csv('Mid Term Question 4.csv')"
      ]
    },
    {
      "cell_type": "code",
      "execution_count": null,
      "id": "a26d39c5",
      "metadata": {
        "id": "a26d39c5",
        "outputId": "3f740c72-c51d-4fec-ad4b-34ca73397f8b"
      },
      "outputs": [
        {
          "data": {
            "text/html": [
              "<table>\n",
              "<thead><tr><th scope=col>Glass.Type</th><th scope=col>Temperature</th><th scope=col>Light.Output</th></tr></thead>\n",
              "<tbody>\n",
              "\t<tr><td>1  </td><td>100</td><td>580</td></tr>\n",
              "\t<tr><td>1  </td><td>100</td><td>568</td></tr>\n",
              "\t<tr><td>1  </td><td>100</td><td>570</td></tr>\n",
              "\t<tr><td>2  </td><td>100</td><td>550</td></tr>\n",
              "\t<tr><td>2  </td><td>100</td><td>530</td></tr>\n",
              "\t<tr><td>2  </td><td>100</td><td>579</td></tr>\n",
              "</tbody>\n",
              "</table>\n"
            ],
            "text/latex": [
              "\\begin{tabular}{r|lll}\n",
              " Glass.Type & Temperature & Light.Output\\\\\n",
              "\\hline\n",
              "\t 1   & 100 & 580\\\\\n",
              "\t 1   & 100 & 568\\\\\n",
              "\t 1   & 100 & 570\\\\\n",
              "\t 2   & 100 & 550\\\\\n",
              "\t 2   & 100 & 530\\\\\n",
              "\t 2   & 100 & 579\\\\\n",
              "\\end{tabular}\n"
            ],
            "text/markdown": [
              "\n",
              "| Glass.Type | Temperature | Light.Output |\n",
              "|---|---|---|\n",
              "| 1   | 100 | 580 |\n",
              "| 1   | 100 | 568 |\n",
              "| 1   | 100 | 570 |\n",
              "| 2   | 100 | 550 |\n",
              "| 2   | 100 | 530 |\n",
              "| 2   | 100 | 579 |\n",
              "\n"
            ],
            "text/plain": [
              "  Glass.Type Temperature Light.Output\n",
              "1 1          100         580         \n",
              "2 1          100         568         \n",
              "3 1          100         570         \n",
              "4 2          100         550         \n",
              "5 2          100         530         \n",
              "6 2          100         579         "
            ]
          },
          "metadata": {},
          "output_type": "display_data"
        }
      ],
      "source": [
        "# Construct the data frame and needed vectors\n",
        "tubes <- data\n",
        "head(tubes)\n",
        "Glass.Type <- factor(tubes$Glass.Type)\n",
        "Temp <- factor(tubes$Temperature)\n",
        "Light <- tubes$Light.Output"
      ]
    },
    {
      "cell_type": "code",
      "execution_count": null,
      "id": "4761a7e2",
      "metadata": {
        "id": "4761a7e2",
        "outputId": "cbd79395-cf04-47a2-f13b-4d03ab722030"
      },
      "outputs": [
        {
          "data": {
            "text/plain": [
              "Call:\n",
              "   aov(formula = Light.Output ~ Temperature + Glass.Type + Temperature * \n",
              "    Glass.Type, data = tubes)\n",
              "\n",
              "Terms:\n",
              "                Temperature Glass.Type Temperature:Glass.Type Residuals\n",
              "Sum of Squares    1779755.6   141157.6               187500.0  309917.0\n",
              "Deg. of Freedom           1          1                      1        23\n",
              "\n",
              "Residual standard error: 116.0804\n",
              "Estimated effects may be unbalanced"
            ]
          },
          "metadata": {},
          "output_type": "display_data"
        },
        {
          "data": {
            "text/plain": [
              "                       Df  Sum Sq Mean Sq F value   Pr(>F)    \n",
              "Temperature             1 1779756 1779756  132.08 5.21e-11 ***\n",
              "Glass.Type              1  141158  141158   10.48  0.00364 ** \n",
              "Temperature:Glass.Type  1  187500  187500   13.91  0.00110 ** \n",
              "Residuals              23  309917   13475                     \n",
              "---\n",
              "Signif. codes:  0 '***' 0.001 '**' 0.01 '*' 0.05 '.' 0.1 ' ' 1"
            ]
          },
          "metadata": {},
          "output_type": "display_data"
        }
      ],
      "source": [
        "# Construct the model and its summaries\n",
        "model4 <- aov(Light.Output ~ Temperature + Glass.Type + Temperature*Glass.Type, data=tubes)\n",
        "model4\n",
        "summary(model4)"
      ]
    },
    {
      "cell_type": "markdown",
      "id": "00fdf7bd",
      "metadata": {
        "id": "00fdf7bd"
      },
      "source": [
        "We can see from the aov summary output that there is an significant interaction between Temperature and Glass Type at the .05 alpha level"
      ]
    },
    {
      "cell_type": "code",
      "execution_count": null,
      "id": "8d76e934",
      "metadata": {
        "id": "8d76e934",
        "outputId": "5e65aa8d-1a22-4988-b4ff-bb578da6b03a"
      },
      "outputs": [
        {
          "data": {
            "image/png": "[encoded data removed]",
            "text/plain": [
              "plot without title"
            ]
          },
          "metadata": {},
          "output_type": "display_data"
        }
      ],
      "source": [
        "# Check interactions by plotting the factors\n",
        "interaction.plot(Glass.Type,Temp,Light,type=\"b\",pch=19,fixed=T)"
      ]
    },
    {
      "cell_type": "code",
      "execution_count": null,
      "id": "500c26fa",
      "metadata": {
        "collapsed": true,
        "id": "500c26fa",
        "outputId": "839cc798-ff32-4ff5-d2f2-d156c67fc9e1"
      },
      "outputs": [
        {
          "data": {
            "image/png": "[encoded data removed]",
            "text/plain": [
              "plot without title"
            ]
          },
          "metadata": {},
          "output_type": "display_data"
        },
        {
          "data": {
            "image/png": "[encoded data removed]",
            "text/plain": [
              "Plot with title \"Normal Q-Q Plot\""
            ]
          },
          "metadata": {},
          "output_type": "display_data"
        }
      ],
      "source": [
        "# Check for model adequacy by plotting the residuals and the QQ of the residuals\n",
        "plot(model4$residuals)\n",
        "qqnorm(model4$residuals)\n",
        "qqline(model4$residuals)"
      ]
    },
    {
      "cell_type": "code",
      "execution_count": null,
      "id": "b1971698",
      "metadata": {
        "collapsed": true,
        "id": "b1971698",
        "outputId": "0c220c4d-1014-4aa9-abbc-adb3f039d045"
      },
      "outputs": [
        {
          "name": "stderr",
          "output_type": "stream",
          "text": [
            "Warning message in replications(paste(\"~\", xx), data = mf):\n",
            "\"non-factors ignored: Temperature\"Warning message in replications(paste(\"~\", xx), data = mf):\n",
            "\"non-factors ignored: Glass.Type\"Warning message in replications(paste(\"~\", xx), data = mf):\n",
            "\"non-factors ignored: Temperature, Glass.Type\""
          ]
        },
        {
          "data": {
            "text/plain": [
              "Tables of means\n",
              "Grand mean\n",
              "         \n",
              "940.1852 \n",
              "\n",
              " Temperature \n",
              "Temperature\n",
              "   100    125    150 \n",
              " 625.7  940.2 1254.6 \n",
              "\n",
              " Glass.Type \n",
              "Glass.Type\n",
              "     1      2      3 \n",
              "1028.7  940.2  851.6 \n",
              "\n",
              " Temperature:Glass.Type \n",
              "           Glass.Type\n",
              "Temperature 1      2      3     \n",
              "        100  589.3  625.7  662.2\n",
              "        125 1028.7  940.2  851.6\n",
              "        150 1468.2 1254.6 1041.1"
            ]
          },
          "metadata": {},
          "output_type": "display_data"
        }
      ],
      "source": [
        "# Check the means at each level given each factor\n",
        "model.tables(model4, type='means')"
      ]
    },
    {
      "cell_type": "markdown",
      "id": "bb71ee97",
      "metadata": {
        "id": "bb71ee97"
      },
      "source": [
        "**Is there a significant interaction effect?**\n",
        "\n",
        "Yes\n",
        "\n",
        "If we plot the interaction between Glass Type and Temperature it is clear that there is an interaction between Glass Type 3 and Temperatures 125 - 150"
      ]
    },
    {
      "cell_type": "markdown",
      "id": "c12c15c2",
      "metadata": {
        "id": "c12c15c2"
      },
      "source": [
        "**Does glass type or temperature affect the response?**\n",
        "\n",
        "Both glass type and temperature affect the response. Both p-values are significant at the .05 alpha level"
      ]
    },
    {
      "cell_type": "markdown",
      "id": "a375bea4",
      "metadata": {
        "id": "a375bea4"
      },
      "source": [
        "**What conclusions can you draw?**\n",
        "\n",
        "That there is an interaction in the reponse when glass type goes from 2 to 3 and temperature goes from 125 to 150. We can tell that this interaction is statistically significant. We can see that each main effects also has a statistically significant impact on the response variable as well. From the model.tables we can see that the best combination for light output is glass type 1 combined with a temperature of 150."
      ]
    },
    {
      "cell_type": "markdown",
      "id": "d5288c94",
      "metadata": {
        "id": "d5288c94"
      },
      "source": [
        "-----------------------------------------------------------------------------------------------------------------"
      ]
    },
    {
      "cell_type": "markdown",
      "id": "8e588103",
      "metadata": {
        "id": "8e588103"
      },
      "source": [
        "**Question 5**\n",
        "\n",
        "Temperature, Salinity, and Density affect growth and survival of Shrimps. 3 factors: “Temperature” (25 degree, 35 degree), “Salinity” (10%,25%, 40%), “Density” (80 shrimp/40 liters, 160/40 liters).\n",
        "\n",
        "Enter into a data frame, named “shrimp”, with 3 factors “Temp”, “Density”, “Salinity”."
      ]
    },
    {
      "cell_type": "code",
      "execution_count": null,
      "id": "8923a901",
      "metadata": {
        "id": "8923a901",
        "outputId": "636234b4-3fc3-429e-ff73-74ca12b5532b"
      },
      "outputs": [
        {
          "data": {
            "text/html": [
              "<table>\n",
              "<thead><tr><th scope=col>Temperature</th><th scope=col>Density</th><th scope=col>Salinity</th><th scope=col>Weight.Gain</th></tr></thead>\n",
              "<tbody>\n",
              "\t<tr><td>25  </td><td>80  </td><td>0.10</td><td> 86 </td></tr>\n",
              "\t<tr><td>25  </td><td>80  </td><td>0.10</td><td> 52 </td></tr>\n",
              "\t<tr><td>25  </td><td>80  </td><td>0.10</td><td> 73 </td></tr>\n",
              "\t<tr><td>25  </td><td>80  </td><td>0.25</td><td>544 </td></tr>\n",
              "\t<tr><td>25  </td><td>80  </td><td>0.25</td><td>371 </td></tr>\n",
              "\t<tr><td>25  </td><td>80  </td><td>0.25</td><td>482 </td></tr>\n",
              "</tbody>\n",
              "</table>\n"
            ],
            "text/latex": [
              "\\begin{tabular}{r|llll}\n",
              " Temperature & Density & Salinity & Weight.Gain\\\\\n",
              "\\hline\n",
              "\t 25   & 80   & 0.10 &  86 \\\\\n",
              "\t 25   & 80   & 0.10 &  52 \\\\\n",
              "\t 25   & 80   & 0.10 &  73 \\\\\n",
              "\t 25   & 80   & 0.25 & 544 \\\\\n",
              "\t 25   & 80   & 0.25 & 371 \\\\\n",
              "\t 25   & 80   & 0.25 & 482 \\\\\n",
              "\\end{tabular}\n"
            ],
            "text/markdown": [
              "\n",
              "| Temperature | Density | Salinity | Weight.Gain |\n",
              "|---|---|---|---|\n",
              "| 25   | 80   | 0.10 |  86  |\n",
              "| 25   | 80   | 0.10 |  52  |\n",
              "| 25   | 80   | 0.10 |  73  |\n",
              "| 25   | 80   | 0.25 | 544  |\n",
              "| 25   | 80   | 0.25 | 371  |\n",
              "| 25   | 80   | 0.25 | 482  |\n",
              "\n"
            ],
            "text/plain": [
              "  Temperature Density Salinity Weight.Gain\n",
              "1 25          80      0.10      86        \n",
              "2 25          80      0.10      52        \n",
              "3 25          80      0.10      73        \n",
              "4 25          80      0.25     544        \n",
              "5 25          80      0.25     371        \n",
              "6 25          80      0.25     482        "
            ]
          },
          "metadata": {},
          "output_type": "display_data"
        }
      ],
      "source": [
        "# Read in data from the working directory and construct the data frame and needed vectors\n",
        "data5  <- read.csv('Mid Term Question 5.csv')\n",
        "shrimp <- data5\n",
        "head(shrimp)\n",
        "weight.gain <- shrimp$Weight.Gain\n",
        "salinity <- factor(shrimp$Salinity)\n",
        "density <- factor(shrimp$Density)\n",
        "temperature <- factor(shrimp$Temperature)"
      ]
    },
    {
      "cell_type": "code",
      "execution_count": null,
      "id": "83a951a1",
      "metadata": {
        "scrolled": true,
        "id": "83a951a1",
        "outputId": "e38afc13-18fc-4983-a16c-29a89fd85a67"
      },
      "outputs": [
        {
          "data": {
            "text/plain": [
              "Call:\n",
              "   aov(formula = weight.gain ~ salinity + density + temperature + \n",
              "    salinity * density * temperature)\n",
              "\n",
              "Terms:\n",
              "                 salinity   density temperature salinity:density\n",
              "Sum of Squares   96762.50  21218.78    15376.00           674.39\n",
              "Deg. of Freedom         2         1           1                2\n",
              "                salinity:temperature density:temperature\n",
              "Sum of Squares             300855.17             8711.11\n",
              "Deg. of Freedom                    2                   1\n",
              "                salinity:density:temperature Residuals\n",
              "Sum of Squares                      24038.39  69690.67\n",
              "Deg. of Freedom                            2        24\n",
              "\n",
              "Residual standard error: 53.88671\n",
              "Estimated effects may be unbalanced"
            ]
          },
          "metadata": {},
          "output_type": "display_data"
        },
        {
          "data": {
            "text/plain": [
              "                             Df Sum Sq Mean Sq F value   Pr(>F)    \n",
              "salinity                      2  96763   48381  16.661 2.90e-05 ***\n",
              "density                       1  21219   21219   7.307   0.0124 *  \n",
              "temperature                   1  15376   15376   5.295   0.0304 *  \n",
              "salinity:density              2    674     337   0.116   0.8909    \n",
              "salinity:temperature          2 300855  150428  51.804 1.96e-09 ***\n",
              "density:temperature           1   8711    8711   3.000   0.0961 .  \n",
              "salinity:density:temperature  2  24038   12019   4.139   0.0285 *  \n",
              "Residuals                    24  69691    2904                     \n",
              "---\n",
              "Signif. codes:  0 '***' 0.001 '**' 0.01 '*' 0.05 '.' 0.1 ' ' 1"
            ]
          },
          "metadata": {},
          "output_type": "display_data"
        },
        {
          "data": {
            "text/plain": [
              "\n",
              "Call:\n",
              "aov(formula = weight.gain ~ salinity + density + temperature + \n",
              "    salinity * density * temperature)\n",
              "\n",
              "Residuals:\n",
              "     Min       1Q   Median       3Q      Max \n",
              "-125.000  -25.750    3.333   31.500   78.333 \n",
              "\n",
              "Coefficients:\n",
              "                                       Estimate Std. Error t value Pr(>|t|)    \n",
              "(Intercept)                             70.3333    31.1115   2.261  0.03313 *  \n",
              "salinity0.25                           395.3333    43.9983   8.985 3.81e-09 ***\n",
              "salinity0.4                            288.6667    43.9983   6.561 8.73e-07 ***\n",
              "density160                               0.3333    43.9983   0.008  0.99402    \n",
              "temperature35                          337.6667    43.9983   7.675 6.53e-08 ***\n",
              "salinity0.25:density160               -133.0000    62.2230  -2.137  0.04295 *  \n",
              "salinity0.4:density160                -107.0000    62.2230  -1.720  0.09837 .  \n",
              "salinity0.25:temperature35            -528.6667    62.2230  -8.496 1.07e-08 ***\n",
              "salinity0.4:temperature35             -453.6667    62.2230  -7.291 1.57e-07 ***\n",
              "density160:temperature35               -77.3333    62.2230  -1.243  0.22593    \n",
              "salinity0.25:density160:temperature35  247.0000    87.9966   2.807  0.00977 ** \n",
              "salinity0.4:density160:temperature35   171.6667    87.9966   1.951  0.06285 .  \n",
              "---\n",
              "Signif. codes:  0 '***' 0.001 '**' 0.01 '*' 0.05 '.' 0.1 ' ' 1\n",
              "\n",
              "Residual standard error: 53.89 on 24 degrees of freedom\n",
              "Multiple R-squared:  0.8703,\tAdjusted R-squared:  0.8109 \n",
              "F-statistic: 14.64 on 11 and 24 DF,  p-value: 4.364e-08\n"
            ]
          },
          "metadata": {},
          "output_type": "display_data"
        }
      ],
      "source": [
        "# Construct the model and its summaries\n",
        "model5 <- aov(weight.gain ~ salinity+density+temperature+salinity*density*temperature)\n",
        "model5\n",
        "summary(model5)\n",
        "summary.lm(model5)"
      ]
    },
    {
      "cell_type": "code",
      "execution_count": null,
      "id": "f33a83c4",
      "metadata": {
        "scrolled": true,
        "id": "f33a83c4",
        "outputId": "b3a60176-d6b1-4d1f-d90f-613442cfe57e"
      },
      "outputs": [
        {
          "data": {
            "image/png": "[encoded data removed]",
            "text/plain": [
              "plot without title"
            ]
          },
          "metadata": {},
          "output_type": "display_data"
        },
        {
          "data": {
            "image/png": "[encoded data removed]",
            "text/plain": [
              "plot without title"
            ]
          },
          "metadata": {},
          "output_type": "display_data"
        },
        {
          "data": {
            "image/png": "[encoded data removed]",
            "text/plain": [
              "plot without title"
            ]
          },
          "metadata": {},
          "output_type": "display_data"
        },
        {
          "data": {
            "image/png": "[encoded data removed]",
            "text/plain": [
              "plot without title"
            ]
          },
          "metadata": {},
          "output_type": "display_data"
        },
        {
          "data": {
            "image/png": "[encoded data removed]",
            "text/plain": [
              "plot without title"
            ]
          },
          "metadata": {},
          "output_type": "display_data"
        }
      ],
      "source": [
        "# Check interactions by plotting the factors\n",
        "interaction.plot(density,salinity,weight.gain,type=\"b\",pch=19,fixed=T)\n",
        "interaction.plot(salinity,density,weight.gain,type=\"b\",pch=19,fixed=T)\n",
        "interaction.plot(temperature,density,weight.gain,type=\"b\",pch=19,fixed=T)\n",
        "interaction.plot(density,temperature,weight.gain,type=\"b\",pch=19,fixed=T)\n",
        "interaction.plot(temperature,salinity,weight.gain,type=\"b\",pch=19,fixed=T)"
      ]
    },
    {
      "cell_type": "markdown",
      "id": "40a56f82",
      "metadata": {
        "id": "40a56f82"
      },
      "source": [
        "There is one area of interaction between temp and salinity. Temperature interactions with salinity when going from 25 to 30 for salinity 0.1. This interacts with both salinity 0.25 and 0.4"
      ]
    },
    {
      "cell_type": "code",
      "execution_count": null,
      "id": "3f280dfb",
      "metadata": {
        "scrolled": true,
        "id": "3f280dfb",
        "outputId": "4ce82bef-98e8-4949-c92f-b3b81fcc37a7"
      },
      "outputs": [
        {
          "data": {
            "text/plain": [
              "Tables of means\n",
              "Grand mean\n",
              "         \n",
              "279.1667 \n",
              "\n",
              " salinity \n",
              "salinity\n",
              "  0.1  0.25   0.4 \n",
              "220.0 346.2 271.2 \n",
              "\n",
              " density \n",
              "density\n",
              "    80    160 \n",
              "303.44 254.89 \n",
              "\n",
              " temperature \n",
              "temperature\n",
              "    25     35 \n",
              "258.50 299.83 \n",
              "\n",
              " salinity:density \n",
              "        density\n",
              "salinity 80    160  \n",
              "    0.1  239.2 200.8\n",
              "    0.25 370.2 322.3\n",
              "    0.4  301.0 241.5\n",
              "\n",
              " salinity:temperature \n",
              "        temperature\n",
              "salinity 25    35   \n",
              "    0.1   70.5 369.5\n",
              "    0.25 399.3 293.2\n",
              "    0.4  305.7 236.8\n",
              "\n",
              " density:temperature \n",
              "       temperature\n",
              "density 25     35    \n",
              "    80  298.33 308.56\n",
              "    160 218.67 291.11\n",
              "\n",
              " salinity:density:temperature \n",
              ", , temperature = 25\n",
              "\n",
              "        density\n",
              "salinity 80    160  \n",
              "    0.1   70.3  70.7\n",
              "    0.25 465.7 333.0\n",
              "    0.4  359.0 252.3\n",
              "\n",
              ", , temperature = 35\n",
              "\n",
              "        density\n",
              "salinity 80    160  \n",
              "    0.1  408.0 331.0\n",
              "    0.25 274.7 311.7\n",
              "    0.4  243.0 230.7\n"
            ]
          },
          "metadata": {},
          "output_type": "display_data"
        }
      ],
      "source": [
        "# Check the means at each level given each factor\n",
        "model.tables(model5, type=\"means\")"
      ]
    },
    {
      "cell_type": "code",
      "execution_count": null,
      "id": "f3fc629c",
      "metadata": {
        "scrolled": true,
        "id": "f3fc629c",
        "outputId": "4eba7f11-3e5b-477d-b54b-b285ec3afa46"
      },
      "outputs": [
        {
          "data": {
            "image/png": "[encoded data removed]",
            "text/plain": [
              "plot without title"
            ]
          },
          "metadata": {},
          "output_type": "display_data"
        },
        {
          "data": {
            "image/png": "[encoded data removed]",
            "text/plain": [
              "Plot with title \"Normal Q-Q Plot\""
            ]
          },
          "metadata": {},
          "output_type": "display_data"
        }
      ],
      "source": [
        "# Check for model adequacy by plotting the residuals and the QQ of the residuals\n",
        "plot(model5$residuals)\n",
        "qqnorm(model5$residuals)\n",
        "qqline(model5$residuals)"
      ]
    },
    {
      "cell_type": "markdown",
      "id": "8973ed63",
      "metadata": {
        "id": "8973ed63"
      },
      "source": [
        "The residuals look good. They look random and normal."
      ]
    },
    {
      "cell_type": "markdown",
      "id": "4115e9cc",
      "metadata": {
        "id": "4115e9cc"
      },
      "source": [
        "**Build regression model with interactions (including 2-way and 3-way interactions). Check main factors significant.**\n",
        "\n",
        "Main factors that are significant are salinity, temperature, and density as main effects and salinity:temperature as an interaction term. Also salinity:density:temperature as a three way factor is significant at the 0.05 alpha level"
      ]
    },
    {
      "cell_type": "markdown",
      "id": "57956a98",
      "metadata": {
        "id": "57956a98"
      },
      "source": [
        "**Are the interactions significant? Build a reduced model if necessary.**\n",
        "\n",
        "Yes the interactions are very significant. The most significant interactions given the summary of the linear model are salinity.025:temperature35 and salinity.4:temperature35. The three way factor salinity0.25:density160:temperature35 is also very significant."
      ]
    },
    {
      "cell_type": "markdown",
      "id": "f67e7063",
      "metadata": {
        "id": "f67e7063"
      },
      "source": [
        "**Check interactions( 2-way and 3-way) significance by plots. Confirm results with part (a)**"
      ]
    },
    {
      "cell_type": "markdown",
      "id": "ff3b1442",
      "metadata": {
        "id": "ff3b1442"
      },
      "source": [
        "Given the interaction output plots we can confirm results from part a."
      ]
    },
    {
      "cell_type": "markdown",
      "id": "25ada207",
      "metadata": {
        "id": "25ada207"
      },
      "source": [
        "**Find the combination of Temp, Density, Salinity which produces the shrimp largest weight gain**"
      ]
    },
    {
      "cell_type": "markdown",
      "id": "10899739",
      "metadata": {
        "id": "10899739"
      },
      "source": [
        "The combination that produces the largest weight gain in shrimp is temperature=25,density=80,salinity=0.25"
      ]
    },
    {
      "cell_type": "markdown",
      "id": "1a970ec7",
      "metadata": {
        "id": "1a970ec7"
      },
      "source": [
        "**Perform 3-part residual check.**\n",
        "\n",
        "When checking the residuals they appear to be random and structureless. The QQ plot of the residuals shows adequate normality"
      ]
    },
    {
      "cell_type": "markdown",
      "id": "2b0be903",
      "metadata": {
        "id": "2b0be903"
      },
      "source": [
        "-----------------------------------------------------------------------------------------------------------------"
      ]
    },
    {
      "cell_type": "markdown",
      "id": "e46fe028",
      "metadata": {
        "id": "e46fe028"
      },
      "source": [
        "**Question 6**"
      ]
    },
    {
      "cell_type": "code",
      "execution_count": null,
      "id": "552d0add",
      "metadata": {
        "id": "552d0add",
        "outputId": "437fa3d6-6e01-490b-e5e6-f911a119165f"
      },
      "outputs": [
        {
          "data": {
            "text/html": [
              "<table>\n",
              "<thead><tr><th scope=col>Oil</th><th scope=col>Truck</th><th scope=col>Fuel.Consumption</th></tr></thead>\n",
              "<tbody>\n",
              "\t<tr><td>1    </td><td>1    </td><td>0.500</td></tr>\n",
              "\t<tr><td>1    </td><td>2    </td><td>0.634</td></tr>\n",
              "\t<tr><td>1    </td><td>3    </td><td>0.487</td></tr>\n",
              "\t<tr><td>1    </td><td>4    </td><td>0.329</td></tr>\n",
              "\t<tr><td>1    </td><td>5    </td><td>0.512</td></tr>\n",
              "\t<tr><td>2    </td><td>1    </td><td>0.535</td></tr>\n",
              "</tbody>\n",
              "</table>\n"
            ],
            "text/latex": [
              "\\begin{tabular}{r|lll}\n",
              " Oil & Truck & Fuel.Consumption\\\\\n",
              "\\hline\n",
              "\t 1     & 1     & 0.500\\\\\n",
              "\t 1     & 2     & 0.634\\\\\n",
              "\t 1     & 3     & 0.487\\\\\n",
              "\t 1     & 4     & 0.329\\\\\n",
              "\t 1     & 5     & 0.512\\\\\n",
              "\t 2     & 1     & 0.535\\\\\n",
              "\\end{tabular}\n"
            ],
            "text/markdown": [
              "\n",
              "| Oil | Truck | Fuel.Consumption |\n",
              "|---|---|---|\n",
              "| 1     | 1     | 0.500 |\n",
              "| 1     | 2     | 0.634 |\n",
              "| 1     | 3     | 0.487 |\n",
              "| 1     | 4     | 0.329 |\n",
              "| 1     | 5     | 0.512 |\n",
              "| 2     | 1     | 0.535 |\n",
              "\n"
            ],
            "text/plain": [
              "  Oil Truck Fuel.Consumption\n",
              "1 1   1     0.500           \n",
              "2 1   2     0.634           \n",
              "3 1   3     0.487           \n",
              "4 1   4     0.329           \n",
              "5 1   5     0.512           \n",
              "6 2   1     0.535           "
            ]
          },
          "metadata": {},
          "output_type": "display_data"
        }
      ],
      "source": [
        "# Read in data. Construct data frame and needed vectors\n",
        "data6  <- read.csv('Mid Term Question 6.csv')\n",
        "head(data6)\n",
        "oil <- factor(data6$Oil)\n",
        "truck <- data6$Truck\n",
        "consumption <- data6$Fuel.Consumption"
      ]
    },
    {
      "cell_type": "code",
      "execution_count": null,
      "id": "21ccb045",
      "metadata": {
        "scrolled": true,
        "id": "21ccb045",
        "outputId": "04fc1baf-8098-41f8-d2d5-06a90fad5372"
      },
      "outputs": [
        {
          "data": {
            "text/plain": [
              "Call:\n",
              "   aov(formula = consumption ~ oil + truck + oil * truck)\n",
              "\n",
              "Terms:\n",
              "                       oil      truck  oil:truck  Residuals\n",
              "Sum of Squares  0.00670573 0.01689813 0.00032807 0.07909580\n",
              "Deg. of Freedom          2          1          2          9\n",
              "\n",
              "Residual standard error: 0.09374659\n",
              "Estimated effects may be unbalanced"
            ]
          },
          "metadata": {},
          "output_type": "display_data"
        },
        {
          "data": {
            "text/plain": [
              "            Df  Sum Sq  Mean Sq F value Pr(>F)\n",
              "oil          2 0.00671 0.003353   0.382  0.693\n",
              "truck        1 0.01690 0.016898   1.923  0.199\n",
              "oil:truck    2 0.00033 0.000164   0.019  0.982\n",
              "Residuals    9 0.07910 0.008788               "
            ]
          },
          "metadata": {},
          "output_type": "display_data"
        },
        {
          "data": {
            "text/plain": [
              "\n",
              "Call:\n",
              "aov(formula = consumption ~ oil + truck + oil * truck)\n",
              "\n",
              "Residuals:\n",
              "     Min       1Q   Median       3Q      Max \n",
              "-0.13530 -0.05030 -0.01320  0.06135  0.11350 \n",
              "\n",
              "Coefficients:\n",
              "            Estimate Std. Error t value Pr(>|t|)    \n",
              "(Intercept)  0.57670    0.09832   5.865 0.000239 ***\n",
              "oil2         0.03330    0.13905   0.239 0.816095    \n",
              "oil3        -0.01520    0.13905  -0.109 0.915352    \n",
              "truck       -0.02810    0.02965  -0.948 0.367948    \n",
              "oil2:truck   0.00510    0.04192   0.122 0.905852    \n",
              "oil3:truck   0.00800    0.04192   0.191 0.852903    \n",
              "---\n",
              "Signif. codes:  0 '***' 0.001 '**' 0.01 '*' 0.05 '.' 0.1 ' ' 1\n",
              "\n",
              "Residual standard error: 0.09375 on 9 degrees of freedom\n",
              "Multiple R-squared:  0.2323,\tAdjusted R-squared:  -0.1942 \n",
              "F-statistic: 0.5446 on 5 and 9 DF,  p-value: 0.7393\n"
            ]
          },
          "metadata": {},
          "output_type": "display_data"
        }
      ],
      "source": [
        "# Construct the model and its summaries\n",
        "model6 <- aov(consumption ~ oil + truck + oil*truck)\n",
        "model6\n",
        "summary(model6)\n",
        "summary.lm(model6)"
      ]
    },
    {
      "cell_type": "code",
      "execution_count": null,
      "id": "96a40744",
      "metadata": {
        "scrolled": true,
        "id": "96a40744",
        "outputId": "bdb45430-8d75-4c13-e756-5babc32eff6c"
      },
      "outputs": [
        {
          "data": {
            "image/png": "[encoded data removed]",
            "text/plain": [
              "plot without title"
            ]
          },
          "metadata": {},
          "output_type": "display_data"
        },
        {
          "data": {
            "image/png": "[encoded data removed]",
            "text/plain": [
              "Plot with title \"Normal Q-Q Plot\""
            ]
          },
          "metadata": {},
          "output_type": "display_data"
        }
      ],
      "source": [
        "# Check for model adequacy by plotting the residuals and the QQ of the residuals\n",
        "plot(model6$residuals)\n",
        "qqnorm(model6$residuals)\n",
        "qqline(model6$residuals)"
      ]
    },
    {
      "cell_type": "code",
      "execution_count": null,
      "id": "a7dc1c7d",
      "metadata": {
        "scrolled": true,
        "id": "a7dc1c7d",
        "outputId": "95e55bdd-0707-4bee-9b67-70803da8c2ab"
      },
      "outputs": [
        {
          "data": {
            "text/plain": [
              "Call:\n",
              "   aov(formula = consumption ~ oil + truck)\n",
              "\n",
              "Terms:\n",
              "                       oil      truck  Residuals\n",
              "Sum of Squares  0.00670573 0.01689813 0.07942387\n",
              "Deg. of Freedom          2          1         11\n",
              "\n",
              "Residual standard error: 0.08497265\n",
              "Estimated effects may be unbalanced"
            ]
          },
          "metadata": {},
          "output_type": "display_data"
        },
        {
          "data": {
            "text/plain": [
              "            Df  Sum Sq  Mean Sq F value Pr(>F)\n",
              "oil          2 0.00671 0.003353   0.464  0.640\n",
              "truck        1 0.01690 0.016898   2.340  0.154\n",
              "Residuals   11 0.07942 0.007220               "
            ]
          },
          "metadata": {},
          "output_type": "display_data"
        },
        {
          "data": {
            "text/plain": [
              "\n",
              "Call:\n",
              "aov(formula = consumption ~ oil + truck)\n",
              "\n",
              "Residuals:\n",
              "     Min       1Q   Median       3Q      Max \n",
              "-0.13967 -0.04667 -0.01320  0.06167  0.11787 \n",
              "\n",
              "Coefficients:\n",
              "            Estimate Std. Error t value Pr(>|t|)    \n",
              "(Intercept)  0.56360    0.06008   9.380  1.4e-06 ***\n",
              "oil2         0.04860    0.05374   0.904    0.385    \n",
              "oil3         0.00880    0.05374   0.164    0.873    \n",
              "truck       -0.02373    0.01551  -1.530    0.154    \n",
              "---\n",
              "Signif. codes:  0 '***' 0.001 '**' 0.01 '*' 0.05 '.' 0.1 ' ' 1\n",
              "\n",
              "Residual standard error: 0.08497 on 11 degrees of freedom\n",
              "Multiple R-squared:  0.2291,\tAdjusted R-squared:  0.01886 \n",
              "F-statistic:  1.09 on 3 and 11 DF,  p-value: 0.394\n"
            ]
          },
          "metadata": {},
          "output_type": "display_data"
        }
      ],
      "source": [
        "# Construct the model and its summaries\n",
        "model6.1 <- aov(consumption ~ oil + truck)\n",
        "model6.1\n",
        "summary(model6.1)\n",
        "summary.lm(model6.1)"
      ]
    },
    {
      "cell_type": "code",
      "execution_count": null,
      "id": "f6224190",
      "metadata": {
        "id": "f6224190",
        "outputId": "a6d57ce1-4847-493b-b14f-cd3791a972aa"
      },
      "outputs": [
        {
          "data": {
            "image/png": "[encoded data removed]",
            "text/plain": [
              "plot without title"
            ]
          },
          "metadata": {},
          "output_type": "display_data"
        },
        {
          "data": {
            "image/png": "[encoded data removed]",
            "text/plain": [
              "Plot with title \"Normal Q-Q Plot\""
            ]
          },
          "metadata": {},
          "output_type": "display_data"
        }
      ],
      "source": [
        "# Check for model adequacy by plotting the residuals and the QQ of the residuals\n",
        "plot(model6.1$residuals)\n",
        "qqnorm(model6.1$residuals)\n",
        "qqline(model6.1$residuals)"
      ]
    },
    {
      "cell_type": "code",
      "execution_count": null,
      "id": "5a10026b",
      "metadata": {
        "scrolled": true,
        "id": "5a10026b",
        "outputId": "94687142-fc1c-42e9-ff2d-e8f050307527"
      },
      "outputs": [
        {
          "data": {
            "text/plain": [
              "Call:\n",
              "   aov(formula = consumption ~ oil)\n",
              "\n",
              "Terms:\n",
              "                       oil  Residuals\n",
              "Sum of Squares  0.00670573 0.09632200\n",
              "Deg. of Freedom          2         12\n",
              "\n",
              "Residual standard error: 0.0895926\n",
              "Estimated effects may be unbalanced"
            ]
          },
          "metadata": {},
          "output_type": "display_data"
        },
        {
          "data": {
            "text/plain": [
              "            Df  Sum Sq  Mean Sq F value Pr(>F)\n",
              "oil          2 0.00671 0.003353   0.418  0.668\n",
              "Residuals   12 0.09632 0.008027               "
            ]
          },
          "metadata": {},
          "output_type": "display_data"
        },
        {
          "data": {
            "text/plain": [
              "\n",
              "Call:\n",
              "aov(formula = consumption ~ oil)\n",
              "\n",
              "Residuals:\n",
              "    Min      1Q  Median      3Q     Max \n",
              "-0.1634 -0.0171 -0.0010  0.0157  0.1416 \n",
              "\n",
              "Coefficients:\n",
              "            Estimate Std. Error t value Pr(>|t|)    \n",
              "(Intercept)  0.49240    0.04007  12.289 3.71e-08 ***\n",
              "oil2         0.04860    0.05666   0.858    0.408    \n",
              "oil3         0.00880    0.05666   0.155    0.879    \n",
              "---\n",
              "Signif. codes:  0 '***' 0.001 '**' 0.01 '*' 0.05 '.' 0.1 ' ' 1\n",
              "\n",
              "Residual standard error: 0.08959 on 12 degrees of freedom\n",
              "Multiple R-squared:  0.06509,\tAdjusted R-squared:  -0.09073 \n",
              "F-statistic: 0.4177 on 2 and 12 DF,  p-value: 0.6678\n"
            ]
          },
          "metadata": {},
          "output_type": "display_data"
        }
      ],
      "source": [
        "# Construct the model and its summaries\n",
        "model6.2 <- aov(consumption ~ oil)\n",
        "model6.2\n",
        "summary(model6.2)\n",
        "summary.lm(model6.2)"
      ]
    },
    {
      "cell_type": "code",
      "execution_count": null,
      "id": "6789fbfb",
      "metadata": {
        "scrolled": true,
        "id": "6789fbfb",
        "outputId": "0bec33a7-33dc-4c64-f442-779fc93f3508"
      },
      "outputs": [
        {
          "data": {
            "image/png": "[encoded data removed]",
            "text/plain": [
              "plot without title"
            ]
          },
          "metadata": {},
          "output_type": "display_data"
        },
        {
          "data": {
            "image/png": "[encoded data removed]",
            "text/plain": [
              "Plot with title \"Normal Q-Q Plot\""
            ]
          },
          "metadata": {},
          "output_type": "display_data"
        }
      ],
      "source": [
        "# Check for model adequacy by plotting the residuals and the QQ of the residuals\n",
        "plot(model6.2$residuals)\n",
        "qqnorm(model6.2$residuals)\n",
        "qqline(model6.2$residuals)"
      ]
    },
    {
      "cell_type": "code",
      "execution_count": null,
      "id": "7c7c35c1",
      "metadata": {
        "scrolled": true,
        "id": "7c7c35c1",
        "outputId": "8e713e67-475c-4339-e2dd-a5e70690ad7d"
      },
      "outputs": [
        {
          "data": {
            "text/plain": [
              "Call:\n",
              "   aov(formula = consumption ~ truck)\n",
              "\n",
              "Terms:\n",
              "                     truck  Residuals\n",
              "Sum of Squares  0.01689813 0.08612960\n",
              "Deg. of Freedom          1         13\n",
              "\n",
              "Residual standard error: 0.08139628\n",
              "Estimated effects may be unbalanced"
            ]
          },
          "metadata": {},
          "output_type": "display_data"
        },
        {
          "data": {
            "text/plain": [
              "            Df  Sum Sq  Mean Sq F value Pr(>F)\n",
              "truck        1 0.01690 0.016898   2.551  0.134\n",
              "Residuals   13 0.08613 0.006625               "
            ]
          },
          "metadata": {},
          "output_type": "display_data"
        },
        {
          "data": {
            "text/plain": [
              "\n",
              "Call:\n",
              "aov(formula = consumption ~ truck)\n",
              "\n",
              "Residuals:\n",
              "     Min       1Q   Median       3Q      Max \n",
              "-0.15880 -0.04940 -0.02353  0.05383  0.13973 \n",
              "\n",
              "Coefficients:\n",
              "            Estimate Std. Error t value Pr(>|t|)    \n",
              "(Intercept)  0.58273    0.04929  11.823  2.5e-08 ***\n",
              "truck       -0.02373    0.01486  -1.597    0.134    \n",
              "---\n",
              "Signif. codes:  0 '***' 0.001 '**' 0.01 '*' 0.05 '.' 0.1 ' ' 1\n",
              "\n",
              "Residual standard error: 0.0814 on 13 degrees of freedom\n",
              "Multiple R-squared:  0.164,\tAdjusted R-squared:  0.09971 \n",
              "F-statistic: 2.551 on 1 and 13 DF,  p-value: 0.1343\n"
            ]
          },
          "metadata": {},
          "output_type": "display_data"
        }
      ],
      "source": [
        "# Construct the model and its summaries\n",
        "model6.3 <- aov(consumption ~ truck)\n",
        "model6.3\n",
        "summary(model6.3)\n",
        "summary.lm(model6.3)"
      ]
    },
    {
      "cell_type": "code",
      "execution_count": null,
      "id": "686956e3",
      "metadata": {
        "id": "686956e3",
        "outputId": "17aa344f-fc3c-46d0-cea0-4091cdaf9a3a"
      },
      "outputs": [
        {
          "name": "stderr",
          "output_type": "stream",
          "text": [
            "Warning message in replications(paste(\"~\", xx), data = mf):\n",
            "\"non-factors ignored: truck\"Warning message in replications(paste(\"~\", xx), data = mf):\n",
            "\"non-factors ignored: oil, truck\""
          ]
        },
        {
          "data": {
            "text/plain": [
              "Tables of means\n",
              "Grand mean\n",
              "          \n",
              "0.5115333 \n",
              "\n",
              " oil \n",
              "oil\n",
              "     1      2      3 \n",
              "0.4924 0.5410 0.5012 \n",
              "\n",
              " truck \n",
              "truck\n",
              "     1      2      3      4      5 \n",
              "0.5590 0.5353 0.5115 0.4878 0.4641 \n",
              "\n",
              " oil:truck \n",
              "   truck\n",
              "oil 1      2      3      4      5     \n",
              "  1 0.5486 0.5205 0.4924 0.4643 0.4362\n",
              "  2 0.5870 0.5640 0.5410 0.5180 0.4950\n",
              "  3 0.5414 0.5213 0.5012 0.4811 0.4610"
            ]
          },
          "metadata": {},
          "output_type": "display_data"
        }
      ],
      "source": [
        "# Check the means at each level given each factor\n",
        "model.tables(model6, type=\"means\")"
      ]
    },
    {
      "cell_type": "markdown",
      "id": "caecb3d9",
      "metadata": {
        "id": "caecb3d9"
      },
      "source": [
        "**Build a linear model. Is there any significant difference of means about the oil types.**\n",
        "\n",
        "No there does not appear to be any significant differences among the means of the oil types. In fact given several models tested nothing seems to be of particular significance"
      ]
    },
    {
      "cell_type": "markdown",
      "id": "bc71cd1e",
      "metadata": {
        "id": "bc71cd1e"
      },
      "source": [
        "**Which oil type gives the lowest fuel consumption.**\n",
        "\n",
        "Just looking at oil on its own type 1 gives the lowest consumption. When looking at oil given truck the lowest is oil type 1, truck type 5"
      ]
    },
    {
      "cell_type": "markdown",
      "id": "1f698269",
      "metadata": {
        "id": "1f698269"
      },
      "source": [
        "**Use Truck as a Blocking factor. Is the Blocking factor effective?**\n",
        "\n",
        "No. Truck is not a significant factor."
      ]
    },
    {
      "cell_type": "markdown",
      "id": "5464727b",
      "metadata": {
        "id": "5464727b"
      },
      "source": [
        "**Do a complete residual assumption check.**\n",
        "\n",
        "The full model doesn't produces any kind of residuals that seem to show adequacy at all. The two reduced models do show some adequacy but normality appears to be lacking."
      ]
    },
    {
      "cell_type": "markdown",
      "id": "28c6d2d1",
      "metadata": {
        "id": "28c6d2d1"
      },
      "source": [
        "-----------------------------------------------------------------------------------------------------------------"
      ]
    },
    {
      "cell_type": "markdown",
      "id": "9ab09c74",
      "metadata": {
        "id": "9ab09c74"
      },
      "source": [
        "**Question 7**\n",
        "\n",
        "An article in the *Fire Safety Journal* describes an experiment in which a shape factor was determined for several different nozzle designs at six levels of jet efflux velocity. Interest focused on potential differences between nozzle designs, with velocity considered as a nuisnace variable. The data are shown below:\n",
        "\n",
        "Set up a data frame named \"nozzles\""
      ]
    },
    {
      "cell_type": "code",
      "execution_count": null,
      "id": "7fb2fb54",
      "metadata": {
        "id": "7fb2fb54",
        "outputId": "d83f969c-3f75-48c9-99af-5d5f0eb855bc"
      },
      "outputs": [
        {
          "data": {
            "text/html": [
              "<table>\n",
              "<thead><tr><th scope=col>Nozzle.Design</th><th scope=col>Jet.Velocity</th><th scope=col>Shape</th></tr></thead>\n",
              "<tbody>\n",
              "\t<tr><td>1    </td><td>11.73</td><td>0.78 </td></tr>\n",
              "\t<tr><td>1    </td><td>14.37</td><td>0.80 </td></tr>\n",
              "\t<tr><td>1    </td><td>16.59</td><td>0.81 </td></tr>\n",
              "\t<tr><td>1    </td><td>20.43</td><td>0.75 </td></tr>\n",
              "\t<tr><td>1    </td><td>23.46</td><td>0.77 </td></tr>\n",
              "\t<tr><td>1    </td><td>28.74</td><td>0.78 </td></tr>\n",
              "</tbody>\n",
              "</table>\n"
            ],
            "text/latex": [
              "\\begin{tabular}{r|lll}\n",
              " Nozzle.Design & Jet.Velocity & Shape\\\\\n",
              "\\hline\n",
              "\t 1     & 11.73 & 0.78 \\\\\n",
              "\t 1     & 14.37 & 0.80 \\\\\n",
              "\t 1     & 16.59 & 0.81 \\\\\n",
              "\t 1     & 20.43 & 0.75 \\\\\n",
              "\t 1     & 23.46 & 0.77 \\\\\n",
              "\t 1     & 28.74 & 0.78 \\\\\n",
              "\\end{tabular}\n"
            ],
            "text/markdown": [
              "\n",
              "| Nozzle.Design | Jet.Velocity | Shape |\n",
              "|---|---|---|\n",
              "| 1     | 11.73 | 0.78  |\n",
              "| 1     | 14.37 | 0.80  |\n",
              "| 1     | 16.59 | 0.81  |\n",
              "| 1     | 20.43 | 0.75  |\n",
              "| 1     | 23.46 | 0.77  |\n",
              "| 1     | 28.74 | 0.78  |\n",
              "\n"
            ],
            "text/plain": [
              "  Nozzle.Design Jet.Velocity Shape\n",
              "1 1             11.73        0.78 \n",
              "2 1             14.37        0.80 \n",
              "3 1             16.59        0.81 \n",
              "4 1             20.43        0.75 \n",
              "5 1             23.46        0.77 \n",
              "6 1             28.74        0.78 "
            ]
          },
          "metadata": {},
          "output_type": "display_data"
        }
      ],
      "source": [
        "# Call data from the working directory\n",
        "data7  <- read.csv('Mid Term Question 7.csv')\n",
        "head(data7)"
      ]
    },
    {
      "cell_type": "code",
      "execution_count": null,
      "id": "3e2781b7",
      "metadata": {
        "id": "3e2781b7"
      },
      "outputs": [],
      "source": [
        "# Construct the data frame along with the neede vectors\n",
        "nozzles <- data7\n",
        "shape <- nozzles$Shape\n",
        "jet <- nozzles$Jet.Velocity\n",
        "design <- factor(nozzles$Nozzle.Design)"
      ]
    },
    {
      "cell_type": "code",
      "execution_count": null,
      "id": "f1dd3d44",
      "metadata": {
        "scrolled": true,
        "id": "f1dd3d44",
        "outputId": "39b6665b-bce1-457c-ec8c-f46b2601117b"
      },
      "outputs": [
        {
          "data": {
            "text/plain": [
              "Call:\n",
              "   aov(formula = shape ~ jet + design + jet * design)\n",
              "\n",
              "Terms:\n",
              "                       jet     design jet:design  Residuals\n",
              "Sum of Squares  0.05531449 0.10218000 0.03054417 0.03430801\n",
              "Deg. of Freedom          1          4          4         20\n",
              "\n",
              "Residual standard error: 0.04141739\n",
              "Estimated effects may be unbalanced"
            ]
          },
          "metadata": {},
          "output_type": "display_data"
        },
        {
          "data": {
            "text/plain": [
              "            Df  Sum Sq Mean Sq F value   Pr(>F)    \n",
              "jet          1 0.05531 0.05531  32.246 1.48e-05 ***\n",
              "design       4 0.10218 0.02555  14.892 8.55e-06 ***\n",
              "jet:design   4 0.03054 0.00764   4.451   0.0098 ** \n",
              "Residuals   20 0.03431 0.00172                     \n",
              "---\n",
              "Signif. codes:  0 '***' 0.001 '**' 0.01 '*' 0.05 '.' 0.1 ' ' 1"
            ]
          },
          "metadata": {},
          "output_type": "display_data"
        },
        {
          "data": {
            "text/plain": [
              "\n",
              "Call:\n",
              "aov(formula = shape ~ jet + design + jet * design)\n",
              "\n",
              "Residuals:\n",
              "      Min        1Q    Median        3Q       Max \n",
              "-0.062838 -0.016441 -0.006209  0.013253  0.074468 \n",
              "\n",
              "Coefficients:\n",
              "             Estimate Std. Error t value Pr(>|t|)    \n",
              "(Intercept)  0.806555   0.059236  13.616 1.41e-11 ***\n",
              "jet         -0.001295   0.002954  -0.438  0.66579    \n",
              "design2      0.098784   0.083773   1.179  0.25216    \n",
              "design3      0.209887   0.083773   2.505  0.02099 *  \n",
              "design4      0.450350   0.083773   5.376 2.91e-05 ***\n",
              "design5      0.222399   0.083773   2.655  0.01521 *  \n",
              "jet:design2 -0.001411   0.004177  -0.338  0.73907    \n",
              "jet:design3 -0.004677   0.004177  -1.120  0.27616    \n",
              "jet:design4 -0.015020   0.004177  -3.596  0.00181 ** \n",
              "jet:design5 -0.009924   0.004177  -2.376  0.02763 *  \n",
              "---\n",
              "Signif. codes:  0 '***' 0.001 '**' 0.01 '*' 0.05 '.' 0.1 ' ' 1\n",
              "\n",
              "Residual standard error: 0.04142 on 20 degrees of freedom\n",
              "Multiple R-squared:  0.8457,\tAdjusted R-squared:  0.7763 \n",
              "F-statistic: 12.18 on 9 and 20 DF,  p-value: 2.468e-06\n"
            ]
          },
          "metadata": {},
          "output_type": "display_data"
        }
      ],
      "source": [
        "# Construct the model and its summaries\n",
        "model7 <- aov(shape ~ jet + design + jet*design)\n",
        "model7\n",
        "summary(model7)\n",
        "summary.lm(model7)"
      ]
    },
    {
      "cell_type": "code",
      "execution_count": null,
      "id": "b28cad6c",
      "metadata": {
        "collapsed": true,
        "id": "b28cad6c",
        "outputId": "272fce8f-41ea-4b32-a28c-c48c2cecbe28"
      },
      "outputs": [
        {
          "data": {
            "text/plain": [
              "Call:\n",
              "   aov(formula = shape ~ jet)\n",
              "\n",
              "Terms:\n",
              "                       jet  Residuals\n",
              "Sum of Squares  0.05531449 0.16703218\n",
              "Deg. of Freedom          1         28\n",
              "\n",
              "Residual standard error: 0.07723623\n",
              "Estimated effects may be unbalanced"
            ]
          },
          "metadata": {},
          "output_type": "display_data"
        },
        {
          "data": {
            "text/plain": [
              "            Df  Sum Sq Mean Sq F value  Pr(>F)   \n",
              "jet          1 0.05531 0.05531   9.272 0.00502 **\n",
              "Residuals   28 0.16703 0.00597                   \n",
              "---\n",
              "Signif. codes:  0 '***' 0.001 '**' 0.01 '*' 0.05 '.' 0.1 ' ' 1"
            ]
          },
          "metadata": {},
          "output_type": "display_data"
        },
        {
          "data": {
            "text/plain": [
              "\n",
              "Call:\n",
              "aov(formula = shape ~ jet)\n",
              "\n",
              "Residuals:\n",
              "     Min       1Q   Median       3Q      Max \n",
              "-0.13485 -0.06285  0.01278  0.04274  0.22515 \n",
              "\n",
              "Coefficients:\n",
              "             Estimate Std. Error t value Pr(>|t|)    \n",
              "(Intercept)  1.002839   0.049401  20.300  < 2e-16 ***\n",
              "jet         -0.007501   0.002463  -3.045  0.00502 ** \n",
              "---\n",
              "Signif. codes:  0 '***' 0.001 '**' 0.01 '*' 0.05 '.' 0.1 ' ' 1\n",
              "\n",
              "Residual standard error: 0.07724 on 28 degrees of freedom\n",
              "Multiple R-squared:  0.2488,\tAdjusted R-squared:  0.2219 \n",
              "F-statistic: 9.272 on 1 and 28 DF,  p-value: 0.005023\n"
            ]
          },
          "metadata": {},
          "output_type": "display_data"
        }
      ],
      "source": [
        "# Construct the reduced model and its summaries\n",
        "model7.1 <- aov(shape ~ jet)\n",
        "model7.1\n",
        "summary(model7.1)\n",
        "summary.lm(model7.1)"
      ]
    },
    {
      "cell_type": "code",
      "execution_count": null,
      "id": "c7127539",
      "metadata": {
        "scrolled": true,
        "id": "c7127539",
        "outputId": "de2e7bcc-aa57-4e3a-dfbc-59960db14c93"
      },
      "outputs": [
        {
          "data": {
            "image/png": "[encoded data removed]",
            "text/plain": [
              "plot without title"
            ]
          },
          "metadata": {},
          "output_type": "display_data"
        },
        {
          "data": {
            "image/png": "[encoded data removed]",
            "text/plain": [
              "plot without title"
            ]
          },
          "metadata": {},
          "output_type": "display_data"
        }
      ],
      "source": [
        "# Check interactions by plotting the factors\n",
        "interaction.plot(jet,design,shape,type=\"b\",pch=19,fixed=T)\n",
        "interaction.plot(design,jet,shape,type=\"b\",pch=19,fixed=T)"
      ]
    },
    {
      "cell_type": "markdown",
      "id": "1261c75d",
      "metadata": {
        "id": "1261c75d"
      },
      "source": [
        "This data is very messy. Lots of interactions."
      ]
    },
    {
      "cell_type": "code",
      "execution_count": null,
      "id": "42329b68",
      "metadata": {
        "id": "42329b68",
        "outputId": "46ba29ab-79b2-428f-8ed3-74bc6cdc4f44"
      },
      "outputs": [
        {
          "data": {
            "image/png": "[encoded data removed]",
            "text/plain": [
              "Plot with title \"Box plot shape ~ jet\""
            ]
          },
          "metadata": {},
          "output_type": "display_data"
        },
        {
          "data": {
            "image/png": "[encoded data removed]",
            "text/plain": [
              "Plot with title \"Box plot shape ~ design\""
            ]
          },
          "metadata": {},
          "output_type": "display_data"
        },
        {
          "data": {
            "image/png": "[encoded data removed]",
            "text/plain": [
              "Plot with title \"Box plot shape ~ jet*design\""
            ]
          },
          "metadata": {},
          "output_type": "display_data"
        }
      ],
      "source": [
        "# Explore the data using boxplots\n",
        "boxplot(shape ~ design , main=\"Box plot shape ~ jet\")\n",
        "boxplot(shape ~ jet , main=\"Box plot shape ~ design\")\n",
        "boxplot(shape ~ jet*design , main=\"Box plot shape ~ jet*design\")"
      ]
    },
    {
      "cell_type": "code",
      "execution_count": null,
      "id": "8ea67794",
      "metadata": {
        "collapsed": true,
        "id": "8ea67794",
        "outputId": "6a770a3a-133b-41a3-dc9d-91389d2ca258"
      },
      "outputs": [
        {
          "name": "stderr",
          "output_type": "stream",
          "text": [
            "Warning message in replications(paste(\"~\", xx), data = mf):\n",
            "\"non-factors ignored: jet\"Warning message in replications(paste(\"~\", xx), data = mf):\n",
            "\"non-factors ignored: jet, design\""
          ]
        },
        {
          "data": {
            "text/plain": [
              "Tables of means\n",
              "Grand mean\n",
              "          \n",
              "0.8586667 \n",
              "\n",
              " jet \n",
              "jet\n",
              " 11.73  14.37  16.59  20.43  23.46  28.74 \n",
              "0.9149 0.8950 0.8784 0.8496 0.8269 0.7873 \n",
              "\n",
              " design \n",
              "design\n",
              "     1      2      3      4      5 \n",
              "0.7817 0.8533 0.9017 0.9433 0.8133 \n",
              "\n",
              " jet:design \n",
              "       design\n",
              "jet     1      2      3      4      5     \n",
              "  11.73 0.7914 0.8736 0.9464 1.0655 0.8974\n",
              "  14.37 0.7879 0.8665 0.9306 1.0225 0.8677\n",
              "  16.59 0.7851 0.8604 0.9174 0.9862 0.8428\n",
              "  20.43 0.7801 0.8501 0.8944 0.9236 0.7998\n",
              "  23.46 0.7762 0.8419 0.8763 0.8742 0.7658\n",
              "  28.74 0.7693 0.8276 0.8448 0.7880 0.7065"
            ]
          },
          "metadata": {},
          "output_type": "display_data"
        },
        {
          "name": "stderr",
          "output_type": "stream",
          "text": [
            "Warning message in replications(paste(\"~\", xx), data = mf):\n",
            "\"non-factors ignored: jet\"Warning message in replications(paste(\"~\", xx), data = mf):\n",
            "\"non-factors ignored: jet, design\""
          ]
        },
        {
          "data": {
            "text/plain": [
              "Tables of effects\n",
              "\n",
              " jet \n",
              "jet\n",
              "   11.73    14.37    16.59    20.43    23.46    28.74 \n",
              " 0.05618  0.03638  0.01973 -0.00908 -0.03181 -0.07141 \n",
              "\n",
              " design \n",
              "design\n",
              "       1        2        3        4        5 \n",
              "-0.07700 -0.00533  0.04300  0.08467 -0.04533 \n",
              "\n",
              " jet:design \n",
              "       design\n",
              "jet     1        2        3        4        5       \n",
              "  11.73 -0.04648 -0.03592 -0.01146  0.06601  0.02784\n",
              "  14.37 -0.03010 -0.02326 -0.00742  0.04275  0.01803\n",
              "  16.59 -0.01632 -0.01261 -0.00402  0.02318  0.00978\n",
              "  20.43  0.00751  0.00580  0.00185 -0.01066 -0.00450\n",
              "  23.46  0.02631  0.02033  0.00649 -0.03737 -0.01576\n",
              "  28.74  0.05908  0.04565  0.01456 -0.08391 -0.03539"
            ]
          },
          "metadata": {},
          "output_type": "display_data"
        }
      ],
      "source": [
        "# Check the means at each level given each factor\n",
        "# Do the same for the models effects\n",
        "model.tables(model7,type=\"mean\")\n",
        "model.tables(model7,type=\"effects\")"
      ]
    },
    {
      "cell_type": "code",
      "execution_count": null,
      "id": "c8f663f8",
      "metadata": {
        "scrolled": true,
        "id": "c8f663f8",
        "outputId": "e63b6d1d-7c37-48fb-cc2e-61be88b71272"
      },
      "outputs": [
        {
          "name": "stderr",
          "output_type": "stream",
          "text": [
            "Warning message in replications(paste(\"~\", xx), data = mf):\n",
            "\"non-factors ignored: jet\"Warning message in replications(paste(\"~\", xx), data = mf):\n",
            "\"non-factors ignored: jet, design\"Warning message in TukeyHSD.aov(model7):\n",
            "\"'which' specified some non-factors which will be dropped\""
          ]
        },
        {
          "data": {
            "text/plain": [
              "  Tukey multiple comparisons of means\n",
              "    95% family-wise confidence level\n",
              "\n",
              "Fit: aov(formula = shape ~ jet + design + jet * design)\n",
              "\n",
              "$design\n",
              "           diff           lwr         upr     p adj\n",
              "2-1  0.07166667  0.0001119781  0.14322136 0.0495231\n",
              "3-1  0.12000000  0.0484453114  0.19155469 0.0005657\n",
              "4-1  0.16166667  0.0901119781  0.23322136 0.0000128\n",
              "5-1  0.03166667 -0.0398880219  0.10322136 0.6799265\n",
              "3-2  0.04833333 -0.0232213552  0.11988802 0.2920748\n",
              "4-2  0.09000000  0.0184453114  0.16155469 0.0095480\n",
              "5-2 -0.04000000 -0.1115546886  0.03155469 0.4716948\n",
              "4-3  0.04166667 -0.0298880219  0.11322136 0.4322282\n",
              "5-3 -0.08833333 -0.1598880219 -0.01677864 0.0111418\n",
              "5-4 -0.13000000 -0.2015546886 -0.05844531 0.0002221\n"
            ]
          },
          "metadata": {},
          "output_type": "display_data"
        },
        {
          "data": {
            "image/png": "[encoded data removed]",
            "text/plain": [
              "Plot with title \"95% family-wise confidence level\n",
              "\""
            ]
          },
          "metadata": {},
          "output_type": "display_data"
        }
      ],
      "source": [
        "# Construct the Tukey table and then plot the family-wise CI\n",
        "Tukey <- TukeyHSD(model7)\n",
        "Tukey\n",
        "plot(Tukey)"
      ]
    },
    {
      "cell_type": "code",
      "execution_count": null,
      "id": "c0228a00",
      "metadata": {
        "scrolled": true,
        "id": "c0228a00",
        "outputId": "0ce3a797-24fa-457b-ce0b-032f0599347a"
      },
      "outputs": [
        {
          "name": "stdout",
          "output_type": "stream",
          "text": [
            "\n",
            "Study: model7 ~ c(\"jet\", \"design\")\n",
            "\n",
            "LSD t Test for shape \n",
            "\n",
            "Mean Square Error:  0.001715401 \n",
            "\n",
            "jet:design,  means and individual ( 95 %) CI\n",
            "\n",
            "        shape std r       LCL       UCL  Min  Max\n",
            "11.73:1  0.78  NA 1 0.6936048 0.8663952 0.78 0.78\n",
            "11.73:2  0.85  NA 1 0.7636048 0.9363952 0.85 0.85\n",
            "11.73:3  0.93  NA 1 0.8436048 1.0163952 0.93 0.93\n",
            "11.73:4  1.14  NA 1 1.0536048 1.2263952 1.14 1.14\n",
            "11.73:5  0.97  NA 1 0.8836048 1.0563952 0.97 0.97\n",
            "14.37:1  0.80  NA 1 0.7136048 0.8863952 0.80 0.80\n",
            "14.37:2  0.85  NA 1 0.7636048 0.9363952 0.85 0.85\n",
            "14.37:3  0.92  NA 1 0.8336048 1.0063952 0.92 0.92\n",
            "14.37:4  0.97  NA 1 0.8836048 1.0563952 0.97 0.97\n",
            "14.37:5  0.86  NA 1 0.7736048 0.9463952 0.86 0.86\n",
            "16.59:1  0.81  NA 1 0.7236048 0.8963952 0.81 0.81\n",
            "16.59:2  0.92  NA 1 0.8336048 1.0063952 0.92 0.92\n",
            "16.59:3  0.95  NA 1 0.8636048 1.0363952 0.95 0.95\n",
            "16.59:4  0.98  NA 1 0.8936048 1.0663952 0.98 0.98\n",
            "16.59:5  0.78  NA 1 0.6936048 0.8663952 0.78 0.78\n",
            "20.43:1  0.75  NA 1 0.6636048 0.8363952 0.75 0.75\n",
            "20.43:2  0.86  NA 1 0.7736048 0.9463952 0.86 0.86\n",
            "20.43:3  0.89  NA 1 0.8036048 0.9763952 0.89 0.89\n",
            "20.43:4  0.88  NA 1 0.7936048 0.9663952 0.88 0.88\n",
            "20.43:5  0.76  NA 1 0.6736048 0.8463952 0.76 0.76\n",
            "23.46:1  0.77  NA 1 0.6836048 0.8563952 0.77 0.77\n",
            "23.46:2  0.81  NA 1 0.7236048 0.8963952 0.81 0.81\n",
            "23.46:3  0.89  NA 1 0.8036048 0.9763952 0.89 0.89\n",
            "23.46:4  0.86  NA 1 0.7736048 0.9463952 0.86 0.86\n",
            "23.46:5  0.76  NA 1 0.6736048 0.8463952 0.76 0.76\n",
            "28.74:1  0.78  NA 1 0.6936048 0.8663952 0.78 0.78\n",
            "28.74:2  0.83  NA 1 0.7436048 0.9163952 0.83 0.83\n",
            "28.74:3  0.83  NA 1 0.7436048 0.9163952 0.83 0.83\n",
            "28.74:4  0.83  NA 1 0.7436048 0.9163952 0.83 0.83\n",
            "28.74:5  0.75  NA 1 0.6636048 0.8363952 0.75 0.75\n",
            "\n",
            "Alpha: 0.05 ; DF Error: 20\n",
            "Critical Value of t: 2.085963 \n",
            "\n",
            "least Significant Difference: 0.1221812 \n",
            "\n",
            "Treatments with the same letter are not significantly different.\n",
            "\n",
            "        shape   groups\n",
            "11.73:4  1.14        a\n",
            "16.59:4  0.98        b\n",
            "11.73:5  0.97       bc\n",
            "14.37:4  0.97       bc\n",
            "16.59:3  0.95      bcd\n",
            "11.73:3  0.93     bcde\n",
            "14.37:3  0.92    bcdef\n",
            "16.59:2  0.92    bcdef\n",
            "20.43:3  0.89   bcdefg\n",
            "23.46:3  0.89   bcdefg\n",
            "20.43:4  0.88  bcdefgh\n",
            "14.37:5  0.86 bcdefghi\n",
            "20.43:2  0.86 bcdefghi\n",
            "23.46:4  0.86 bcdefghi\n",
            "11.73:2  0.85  cdefghi\n",
            "14.37:2  0.85  cdefghi\n",
            "28.74:2  0.83   defghi\n",
            "28.74:3  0.83   defghi\n",
            "28.74:4  0.83   defghi\n",
            "16.59:1  0.81    efghi\n",
            "23.46:2  0.81    efghi\n",
            "14.37:1  0.80     fghi\n",
            "11.73:1  0.78      ghi\n",
            "16.59:5  0.78      ghi\n",
            "28.74:1  0.78      ghi\n",
            "23.46:1  0.77      ghi\n",
            "20.43:5  0.76       hi\n",
            "23.46:5  0.76       hi\n",
            "20.43:1  0.75        i\n",
            "28.74:5  0.75        i\n"
          ]
        },
        {
          "data": {
            "text/plain": [
              "$statistics\n",
              "      MSerror Df      Mean       CV  t.value       LSD\n",
              "  0.001715401 20 0.8586667 4.823454 2.085963 0.1221812\n",
              "\n",
              "$parameters\n",
              "        test p.ajusted     name.t ntr alpha\n",
              "  Fisher-LSD      none jet:design  30  0.05\n",
              "\n",
              "$means\n",
              "        shape std r       LCL       UCL  Min  Max  Q25  Q50  Q75\n",
              "11.73:1  0.78  NA 1 0.6936048 0.8663952 0.78 0.78 0.78 0.78 0.78\n",
              "11.73:2  0.85  NA 1 0.7636048 0.9363952 0.85 0.85 0.85 0.85 0.85\n",
              "11.73:3  0.93  NA 1 0.8436048 1.0163952 0.93 0.93 0.93 0.93 0.93\n",
              "11.73:4  1.14  NA 1 1.0536048 1.2263952 1.14 1.14 1.14 1.14 1.14\n",
              "11.73:5  0.97  NA 1 0.8836048 1.0563952 0.97 0.97 0.97 0.97 0.97\n",
              "14.37:1  0.80  NA 1 0.7136048 0.8863952 0.80 0.80 0.80 0.80 0.80\n",
              "14.37:2  0.85  NA 1 0.7636048 0.9363952 0.85 0.85 0.85 0.85 0.85\n",
              "14.37:3  0.92  NA 1 0.8336048 1.0063952 0.92 0.92 0.92 0.92 0.92\n",
              "14.37:4  0.97  NA 1 0.8836048 1.0563952 0.97 0.97 0.97 0.97 0.97\n",
              "14.37:5  0.86  NA 1 0.7736048 0.9463952 0.86 0.86 0.86 0.86 0.86\n",
              "16.59:1  0.81  NA 1 0.7236048 0.8963952 0.81 0.81 0.81 0.81 0.81\n",
              "16.59:2  0.92  NA 1 0.8336048 1.0063952 0.92 0.92 0.92 0.92 0.92\n",
              "16.59:3  0.95  NA 1 0.8636048 1.0363952 0.95 0.95 0.95 0.95 0.95\n",
              "16.59:4  0.98  NA 1 0.8936048 1.0663952 0.98 0.98 0.98 0.98 0.98\n",
              "16.59:5  0.78  NA 1 0.6936048 0.8663952 0.78 0.78 0.78 0.78 0.78\n",
              "20.43:1  0.75  NA 1 0.6636048 0.8363952 0.75 0.75 0.75 0.75 0.75\n",
              "20.43:2  0.86  NA 1 0.7736048 0.9463952 0.86 0.86 0.86 0.86 0.86\n",
              "20.43:3  0.89  NA 1 0.8036048 0.9763952 0.89 0.89 0.89 0.89 0.89\n",
              "20.43:4  0.88  NA 1 0.7936048 0.9663952 0.88 0.88 0.88 0.88 0.88\n",
              "20.43:5  0.76  NA 1 0.6736048 0.8463952 0.76 0.76 0.76 0.76 0.76\n",
              "23.46:1  0.77  NA 1 0.6836048 0.8563952 0.77 0.77 0.77 0.77 0.77\n",
              "23.46:2  0.81  NA 1 0.7236048 0.8963952 0.81 0.81 0.81 0.81 0.81\n",
              "23.46:3  0.89  NA 1 0.8036048 0.9763952 0.89 0.89 0.89 0.89 0.89\n",
              "23.46:4  0.86  NA 1 0.7736048 0.9463952 0.86 0.86 0.86 0.86 0.86\n",
              "23.46:5  0.76  NA 1 0.6736048 0.8463952 0.76 0.76 0.76 0.76 0.76\n",
              "28.74:1  0.78  NA 1 0.6936048 0.8663952 0.78 0.78 0.78 0.78 0.78\n",
              "28.74:2  0.83  NA 1 0.7436048 0.9163952 0.83 0.83 0.83 0.83 0.83\n",
              "28.74:3  0.83  NA 1 0.7436048 0.9163952 0.83 0.83 0.83 0.83 0.83\n",
              "28.74:4  0.83  NA 1 0.7436048 0.9163952 0.83 0.83 0.83 0.83 0.83\n",
              "28.74:5  0.75  NA 1 0.6636048 0.8363952 0.75 0.75 0.75 0.75 0.75\n",
              "\n",
              "$comparison\n",
              "NULL\n",
              "\n",
              "$groups\n",
              "        shape   groups\n",
              "11.73:4  1.14        a\n",
              "16.59:4  0.98        b\n",
              "11.73:5  0.97       bc\n",
              "14.37:4  0.97       bc\n",
              "16.59:3  0.95      bcd\n",
              "11.73:3  0.93     bcde\n",
              "14.37:3  0.92    bcdef\n",
              "16.59:2  0.92    bcdef\n",
              "20.43:3  0.89   bcdefg\n",
              "23.46:3  0.89   bcdefg\n",
              "20.43:4  0.88  bcdefgh\n",
              "14.37:5  0.86 bcdefghi\n",
              "20.43:2  0.86 bcdefghi\n",
              "23.46:4  0.86 bcdefghi\n",
              "11.73:2  0.85  cdefghi\n",
              "14.37:2  0.85  cdefghi\n",
              "28.74:2  0.83   defghi\n",
              "28.74:3  0.83   defghi\n",
              "28.74:4  0.83   defghi\n",
              "16.59:1  0.81    efghi\n",
              "23.46:2  0.81    efghi\n",
              "14.37:1  0.80     fghi\n",
              "11.73:1  0.78      ghi\n",
              "16.59:5  0.78      ghi\n",
              "28.74:1  0.78      ghi\n",
              "23.46:1  0.77      ghi\n",
              "20.43:5  0.76       hi\n",
              "23.46:5  0.76       hi\n",
              "20.43:1  0.75        i\n",
              "28.74:5  0.75        i\n",
              "\n",
              "attr(,\"class\")\n",
              "[1] \"group\""
            ]
          },
          "metadata": {},
          "output_type": "display_data"
        }
      ],
      "source": [
        "# Take a more detailed look at the model by constructing the LSD on the model\n",
        "LSD7 <- LSD.test(model7, c(\"jet\", \"design\"), console=T)\n",
        "LSD7"
      ]
    },
    {
      "cell_type": "markdown",
      "id": "10715b99",
      "metadata": {
        "id": "10715b99"
      },
      "source": [
        "**Build a linear model, nozzle as a blocking factor. Does the nozzle design affect the shape factor? Use 𝛼 = .05.**\n",
        "\n",
        "Yes. \n",
        "\n",
        "Nozzle Design has a p-value with significance at 𝛼 = .05"
      ]
    },
    {
      "cell_type": "markdown",
      "id": "4761c552",
      "metadata": {
        "id": "4761c552"
      },
      "source": [
        "**Is nozzle Blocking factor effective?**\n",
        "\n",
        "Yes.\n",
        "\n",
        "If we run the aov with just Jet Velocity as the factor then the signifiance is lower than if we use Nozzle Design as a blocking factor which results in "
      ]
    },
    {
      "cell_type": "markdown",
      "id": "42a15ce9",
      "metadata": {
        "id": "42a15ce9"
      },
      "source": [
        "**Which nozzle designs are different with respect to the shape factor? [Hint: use Tukey HSD]**\n",
        "\n",
        "From the Tukey plot output it appears that design 1 and 2 are significantly different with respect to shape factor."
      ]
    },
    {
      "cell_type": "markdown",
      "id": "c5cafd12",
      "metadata": {
        "id": "c5cafd12"
      },
      "source": [
        "**Is the velocity effect significant?**\n",
        "\n",
        "Yes.\n",
        "\n",
        "From the aov summary output we can see that jet does cause a statistically significant variance. From the summary.lm we can see that this effect is most likely coming from the interaction between design 4 and 5 with jet velocity."
      ]
    },
    {
      "cell_type": "markdown",
      "id": "fe671303",
      "metadata": {
        "id": "fe671303"
      },
      "source": [
        "-----------------------------------------------------------------------------------------------------------------"
      ]
    },
    {
      "cell_type": "markdown",
      "id": "4d093759",
      "metadata": {
        "id": "4d093759"
      },
      "source": [
        "**Question 8**\n",
        "\n",
        "The yield of a chemical process is being studied. The two factors of interest are temperature and pressure. Three levels of each factor are selected; however, only nine runs can be made in one day. The experimenter runs a complete replicate of the design on each day. The data are shown in the following table. Analyze the data assuming that the days are blocks.\n",
        "\n",
        "Set up a data frame named \"chemprocess\"."
      ]
    },
    {
      "cell_type": "code",
      "execution_count": null,
      "id": "1667bf04",
      "metadata": {
        "id": "1667bf04",
        "outputId": "fcbe157c-99ba-4473-e150-384b74767bb8"
      },
      "outputs": [
        {
          "data": {
            "text/html": [
              "<table>\n",
              "<thead><tr><th scope=col>Day</th><th scope=col>Pressure</th><th scope=col>Temperature</th><th scope=col>Yield</th></tr></thead>\n",
              "<tbody>\n",
              "\t<tr><td>1     </td><td>250   </td><td>Low   </td><td>86.3  </td></tr>\n",
              "\t<tr><td>1     </td><td>260   </td><td>Low   </td><td>84.0  </td></tr>\n",
              "\t<tr><td>1     </td><td>270   </td><td>Low   </td><td>85.8  </td></tr>\n",
              "\t<tr><td>1     </td><td>250   </td><td>Medium</td><td>88.5  </td></tr>\n",
              "\t<tr><td>1     </td><td>260   </td><td>Medium</td><td>87.3  </td></tr>\n",
              "\t<tr><td>1     </td><td>270   </td><td>Medium</td><td>89.0  </td></tr>\n",
              "</tbody>\n",
              "</table>\n"
            ],
            "text/latex": [
              "\\begin{tabular}{r|llll}\n",
              " Day & Pressure & Temperature & Yield\\\\\n",
              "\\hline\n",
              "\t 1      & 250    & Low    & 86.3  \\\\\n",
              "\t 1      & 260    & Low    & 84.0  \\\\\n",
              "\t 1      & 270    & Low    & 85.8  \\\\\n",
              "\t 1      & 250    & Medium & 88.5  \\\\\n",
              "\t 1      & 260    & Medium & 87.3  \\\\\n",
              "\t 1      & 270    & Medium & 89.0  \\\\\n",
              "\\end{tabular}\n"
            ],
            "text/markdown": [
              "\n",
              "| Day | Pressure | Temperature | Yield |\n",
              "|---|---|---|---|\n",
              "| 1      | 250    | Low    | 86.3   |\n",
              "| 1      | 260    | Low    | 84.0   |\n",
              "| 1      | 270    | Low    | 85.8   |\n",
              "| 1      | 250    | Medium | 88.5   |\n",
              "| 1      | 260    | Medium | 87.3   |\n",
              "| 1      | 270    | Medium | 89.0   |\n",
              "\n"
            ],
            "text/plain": [
              "  Day Pressure Temperature Yield\n",
              "1 1   250      Low         86.3 \n",
              "2 1   260      Low         84.0 \n",
              "3 1   270      Low         85.8 \n",
              "4 1   250      Medium      88.5 \n",
              "5 1   260      Medium      87.3 \n",
              "6 1   270      Medium      89.0 "
            ]
          },
          "metadata": {},
          "output_type": "display_data"
        }
      ],
      "source": [
        "# Read in data from the working directory. Create the data frame and needed vectors\n",
        "data8  <- read.csv('Mid Term Question 8.csv')\n",
        "head(data8)\n",
        "chemprocess <- data8\n",
        "day <- factor(chemprocess$Day)\n",
        "pressure <- chemprocess$Pressure\n",
        "temp <- factor(chemprocess$Temperature)\n",
        "yield <- chemprocess$Yield"
      ]
    },
    {
      "cell_type": "code",
      "execution_count": null,
      "id": "179653a4",
      "metadata": {
        "scrolled": true,
        "id": "179653a4",
        "outputId": "6732d15a-afc8-4631-dd80-cfe3d52c8916"
      },
      "outputs": [
        {
          "data": {
            "text/plain": [
              "Call:\n",
              "   aov(formula = yield ~ day + pressure + temp + day * pressure * \n",
              "    temp)\n",
              "\n",
              "Terms:\n",
              "                     day pressure     temp day:pressure day:temp pressure:temp\n",
              "Sum of Squares  13.00500  3.30750 99.85444      0.30083  2.54333       1.71500\n",
              "Deg. of Freedom        1        1        2            1        2             2\n",
              "                day:pressure:temp Residuals\n",
              "Sum of Squares            0.47167   5.87167\n",
              "Deg. of Freedom                 2         6\n",
              "\n",
              "Residual standard error: 0.9892478\n",
              "Estimated effects may be unbalanced"
            ]
          },
          "metadata": {},
          "output_type": "display_data"
        },
        {
          "data": {
            "text/plain": [
              "                  Df Sum Sq Mean Sq F value   Pr(>F)    \n",
              "day                1  13.00   13.00  13.289 0.010765 *  \n",
              "pressure           1   3.31    3.31   3.380 0.115631    \n",
              "temp               2  99.85   49.93  51.018 0.000171 ***\n",
              "day:pressure       1   0.30    0.30   0.307 0.599316    \n",
              "day:temp           2   2.54    1.27   1.299 0.339721    \n",
              "pressure:temp      2   1.72    0.86   0.876 0.463587    \n",
              "day:pressure:temp  2   0.47    0.24   0.241 0.793107    \n",
              "Residuals          6   5.87    0.98                     \n",
              "---\n",
              "Signif. codes:  0 '***' 0.001 '**' 0.01 '*' 0.05 '.' 0.1 ' ' 1"
            ]
          },
          "metadata": {},
          "output_type": "display_data"
        },
        {
          "data": {
            "text/plain": [
              "\n",
              "Call:\n",
              "aov(formula = yield ~ day + pressure + temp + day * pressure * \n",
              "    temp)\n",
              "\n",
              "Residuals:\n",
              "    Min      1Q  Median      3Q     Max \n",
              "-1.3667 -0.1292  0.0000  0.4833  0.6833 \n",
              "\n",
              "Coefficients:\n",
              "                          Estimate Std. Error t value Pr(>|t|)  \n",
              "(Intercept)               61.60000   18.19606   3.385   0.0148 *\n",
              "day2                       5.26667   25.73312   0.205   0.8446  \n",
              "pressure                   0.11000    0.06995   1.573   0.1669  \n",
              "tempLow                   30.26667   25.73312   1.176   0.2841  \n",
              "tempMedium                20.16667   25.73312   0.784   0.4630  \n",
              "day2:pressure             -0.01000    0.09892  -0.101   0.9228  \n",
              "day2:tempLow             -26.53333   36.39213  -0.729   0.4934  \n",
              "day2:tempMedium           -8.86667   36.39213  -0.244   0.8156  \n",
              "pressure:tempLow          -0.13500    0.09892  -1.365   0.2213  \n",
              "pressure:tempMedium       -0.08500    0.09892  -0.859   0.4232  \n",
              "day2:pressure:tempLow      0.09500    0.13990   0.679   0.5224  \n",
              "day2:pressure:tempMedium   0.03000    0.13990   0.214   0.8373  \n",
              "---\n",
              "Signif. codes:  0 '***' 0.001 '**' 0.01 '*' 0.05 '.' 0.1 ' ' 1\n",
              "\n",
              "Residual standard error: 0.9892 on 6 degrees of freedom\n",
              "Multiple R-squared:  0.9538,\tAdjusted R-squared:  0.8691 \n",
              "F-statistic: 11.26 on 11 and 6 DF,  p-value: 0.003765\n"
            ]
          },
          "metadata": {},
          "output_type": "display_data"
        },
        {
          "data": {
            "text/html": [
              "<table>\n",
              "<thead><tr><th></th><th scope=col>Df</th><th scope=col>Sum Sq</th><th scope=col>Mean Sq</th><th scope=col>F value</th><th scope=col>Pr(&gt;F)</th></tr></thead>\n",
              "<tbody>\n",
              "\t<tr><th scope=row>day</th><td>1           </td><td>13.0050000  </td><td>13.0050000  </td><td>13.2892421  </td><td>0.0107647212</td></tr>\n",
              "\t<tr><th scope=row>pressure</th><td>1           </td><td> 3.3075000  </td><td> 3.3075000  </td><td> 3.3797900  </td><td>0.1156309849</td></tr>\n",
              "\t<tr><th scope=row>temp</th><td>2           </td><td>99.8544444  </td><td>49.9272222  </td><td>51.0184502  </td><td>0.0001712921</td></tr>\n",
              "\t<tr><th scope=row>day:pressure</th><td>1           </td><td> 0.3008333  </td><td> 0.3008333  </td><td> 0.3074085  </td><td>0.5993164076</td></tr>\n",
              "\t<tr><th scope=row>day:temp</th><td>2           </td><td> 2.5433333  </td><td> 1.2716667  </td><td> 1.2994607  </td><td>0.3397205492</td></tr>\n",
              "\t<tr><th scope=row>pressure:temp</th><td>2           </td><td> 1.7150000  </td><td> 0.8575000  </td><td> 0.8762418  </td><td>0.4635869151</td></tr>\n",
              "\t<tr><th scope=row>day:pressure:temp</th><td>2           </td><td> 0.4716667  </td><td> 0.2358333  </td><td> 0.2409878  </td><td>0.7931066251</td></tr>\n",
              "\t<tr><th scope=row>Residuals</th><td>6           </td><td> 5.8716667  </td><td> 0.9786111  </td><td>        NA  </td><td>          NA</td></tr>\n",
              "</tbody>\n",
              "</table>\n"
            ],
            "text/latex": [
              "\\begin{tabular}{r|lllll}\n",
              "  & Df & Sum Sq & Mean Sq & F value & Pr(>F)\\\\\n",
              "\\hline\n",
              "\tday & 1            & 13.0050000   & 13.0050000   & 13.2892421   & 0.0107647212\\\\\n",
              "\tpressure & 1            &  3.3075000   &  3.3075000   &  3.3797900   & 0.1156309849\\\\\n",
              "\ttemp & 2            & 99.8544444   & 49.9272222   & 51.0184502   & 0.0001712921\\\\\n",
              "\tday:pressure & 1            &  0.3008333   &  0.3008333   &  0.3074085   & 0.5993164076\\\\\n",
              "\tday:temp & 2            &  2.5433333   &  1.2716667   &  1.2994607   & 0.3397205492\\\\\n",
              "\tpressure:temp & 2            &  1.7150000   &  0.8575000   &  0.8762418   & 0.4635869151\\\\\n",
              "\tday:pressure:temp & 2            &  0.4716667   &  0.2358333   &  0.2409878   & 0.7931066251\\\\\n",
              "\tResiduals & 6            &  5.8716667   &  0.9786111   &         NA   &           NA\\\\\n",
              "\\end{tabular}\n"
            ],
            "text/markdown": [
              "\n",
              "| <!--/--> | Df | Sum Sq | Mean Sq | F value | Pr(>F) |\n",
              "|---|---|---|---|---|---|\n",
              "| day | 1            | 13.0050000   | 13.0050000   | 13.2892421   | 0.0107647212 |\n",
              "| pressure | 1            |  3.3075000   |  3.3075000   |  3.3797900   | 0.1156309849 |\n",
              "| temp | 2            | 99.8544444   | 49.9272222   | 51.0184502   | 0.0001712921 |\n",
              "| day:pressure | 1            |  0.3008333   |  0.3008333   |  0.3074085   | 0.5993164076 |\n",
              "| day:temp | 2            |  2.5433333   |  1.2716667   |  1.2994607   | 0.3397205492 |\n",
              "| pressure:temp | 2            |  1.7150000   |  0.8575000   |  0.8762418   | 0.4635869151 |\n",
              "| day:pressure:temp | 2            |  0.4716667   |  0.2358333   |  0.2409878   | 0.7931066251 |\n",
              "| Residuals | 6            |  5.8716667   |  0.9786111   |         NA   |           NA |\n",
              "\n"
            ],
            "text/plain": [
              "                  Df Sum Sq     Mean Sq    F value    Pr(>F)      \n",
              "day               1  13.0050000 13.0050000 13.2892421 0.0107647212\n",
              "pressure          1   3.3075000  3.3075000  3.3797900 0.1156309849\n",
              "temp              2  99.8544444 49.9272222 51.0184502 0.0001712921\n",
              "day:pressure      1   0.3008333  0.3008333  0.3074085 0.5993164076\n",
              "day:temp          2   2.5433333  1.2716667  1.2994607 0.3397205492\n",
              "pressure:temp     2   1.7150000  0.8575000  0.8762418 0.4635869151\n",
              "day:pressure:temp 2   0.4716667  0.2358333  0.2409878 0.7931066251\n",
              "Residuals         6   5.8716667  0.9786111         NA           NA"
            ]
          },
          "metadata": {},
          "output_type": "display_data"
        }
      ],
      "source": [
        "# Construct the model and output its summaries\n",
        "model8 <- aov(yield ~ day + pressure + temp + day*pressure*temp)\n",
        "model8\n",
        "summary(model8)\n",
        "summary.lm(model8)\n",
        "anova(model8)"
      ]
    },
    {
      "cell_type": "code",
      "execution_count": null,
      "id": "33ef6c9e",
      "metadata": {
        "scrolled": true,
        "id": "33ef6c9e",
        "outputId": "848df08b-204e-403d-e935-84f85678aca5"
      },
      "outputs": [
        {
          "data": {
            "image/png": "[encoded data removed]",
            "text/plain": [
              "plot without title"
            ]
          },
          "metadata": {},
          "output_type": "display_data"
        },
        {
          "data": {
            "image/png": "[encoded data removed]",
            "text/plain": [
              "plot without title"
            ]
          },
          "metadata": {},
          "output_type": "display_data"
        },
        {
          "data": {
            "image/png": "[encoded data removed]",
            "text/plain": [
              "plot without title"
            ]
          },
          "metadata": {},
          "output_type": "display_data"
        }
      ],
      "source": [
        "# Check for interactions between factors using interactions plots\n",
        "interaction.plot(day,pressure,yield,type=\"b\",pch=19,fixed=T)\n",
        "interaction.plot(day,temp,yield,type=\"b\",pch=19,fixed=T)\n",
        "interaction.plot(pressure,temp,yield,type=\"b\",pch=19,fixed=T)"
      ]
    },
    {
      "cell_type": "markdown",
      "id": "916714df",
      "metadata": {
        "id": "916714df"
      },
      "source": [
        "There does appear to be an interaction going on between day and pressure when day goes from 1 to 2 and pressure goes from 250 to 260"
      ]
    },
    {
      "cell_type": "code",
      "execution_count": null,
      "id": "278ff23e",
      "metadata": {
        "scrolled": true,
        "id": "278ff23e",
        "outputId": "706c96ed-c791-4702-cd03-b148bf0639f3"
      },
      "outputs": [
        {
          "data": {
            "image/png": "[encoded data removed]",
            "text/plain": [
              "plot without title"
            ]
          },
          "metadata": {},
          "output_type": "display_data"
        },
        {
          "data": {
            "text/plain": [
              "\n",
              "\tBartlett test of homogeneity of variances\n",
              "\n",
              "data:  model8$residuals by temp\n",
              "Bartlett's K-squared = 9.2226, df = 2, p-value = 0.009939\n"
            ]
          },
          "metadata": {},
          "output_type": "display_data"
        },
        {
          "data": {
            "image/png": "[encoded data removed]",
            "text/plain": [
              "Plot with title \"Normal Q-Q Plot\""
            ]
          },
          "metadata": {},
          "output_type": "display_data"
        }
      ],
      "source": [
        "# Check for model adequacy by plotting the residuals and the QQ of the residuals\n",
        "plot(model8$residuals)\n",
        "qqnorm(model8$residuals)\n",
        "qqline(model8$residuals)\n",
        "bartlett.test(model8$residuals ~ temp)"
      ]
    },
    {
      "cell_type": "code",
      "execution_count": null,
      "id": "44027b03",
      "metadata": {
        "scrolled": true,
        "id": "44027b03",
        "outputId": "f1f4c0ef-1e5b-4410-ccbd-aaf277cbae32"
      },
      "outputs": [
        {
          "name": "stderr",
          "output_type": "stream",
          "text": [
            "Warning message in replications(paste(\"~\", xx), data = mf):\n",
            "\"non-factors ignored: pressure\"Warning message in replications(paste(\"~\", xx), data = mf):\n",
            "\"non-factors ignored: day, pressure\"Warning message in replications(paste(\"~\", xx), data = mf):\n",
            "\"non-factors ignored: pressure, temp\"Warning message in replications(paste(\"~\", xx), data = mf):\n",
            "\"non-factors ignored: day, pressure, temp\""
          ]
        },
        {
          "data": {
            "text/plain": [
              "Tables of means\n",
              "Grand mean\n",
              "         \n",
              "88.79444 \n",
              "\n",
              " day \n",
              "day\n",
              "    1     2 \n",
              "87.94 89.64 \n",
              "\n",
              " pressure \n",
              "pressure\n",
              "  250   260   270 \n",
              "88.27 88.79 89.32 \n",
              "\n",
              " temp \n",
              "temp\n",
              "  High    Low Medium \n",
              " 91.53  85.78  89.07 \n",
              "\n",
              " day:pressure \n",
              "   pressure\n",
              "day 250   260   270  \n",
              "  1 87.58 87.94 88.31\n",
              "  2 88.96 89.64 90.33\n",
              "\n",
              " day:temp \n",
              "   temp\n",
              "day High  Low   Medium\n",
              "  1 90.20 85.37 88.27 \n",
              "  2 92.87 86.20 89.87 \n",
              "\n",
              " pressure:temp \n",
              "        temp\n",
              "pressure High  Low   Medium\n",
              "     250 90.48 85.61 88.72 \n",
              "     260 91.53 85.78 89.07 \n",
              "     270 92.58 85.96 89.42 \n",
              "\n",
              " day:pressure:temp \n",
              ", , temp = High\n",
              "\n",
              "   pressure\n",
              "day 250   260   270  \n",
              "  1 89.10 90.20 91.30\n",
              "  2 91.87 92.87 93.87\n",
              "\n",
              ", , temp = Low\n",
              "\n",
              "   pressure\n",
              "day 250   260   270  \n",
              "  1 85.62 85.37 85.12\n",
              "  2 85.60 86.20 86.80\n",
              "\n",
              ", , temp = Medium\n",
              "\n",
              "   pressure\n",
              "day 250   260   270  \n",
              "  1 88.02 88.27 88.52\n",
              "  2 89.42 89.87 90.32\n"
            ]
          },
          "metadata": {},
          "output_type": "display_data"
        }
      ],
      "source": [
        "# Check the means at each level given each factor\n",
        "model.tables(model8, type=\"means\")"
      ]
    },
    {
      "cell_type": "markdown",
      "id": "32009240",
      "metadata": {
        "id": "32009240"
      },
      "source": [
        "**Build linear model, using “days” as blocking factor. Is “days” an effective blocking factor?**\n",
        "\n",
        "Yes days is an effective blocking factor"
      ]
    },
    {
      "cell_type": "markdown",
      "id": "650e3601",
      "metadata": {
        "id": "650e3601"
      },
      "source": [
        "**Are “Temperature” or “Pressure” or interactions are significant?**\n",
        "\n",
        "No. There is no interaction between temperature and pressure when looking at the response yield"
      ]
    },
    {
      "cell_type": "markdown",
      "id": "8a395f3b",
      "metadata": {
        "id": "8a395f3b"
      },
      "source": [
        "**Which Temperature and Pressure combination gives the highest yield.**\n",
        "\n",
        "The temperature pressure combination that gives the highest yield is pressure=270,temp=High"
      ]
    },
    {
      "cell_type": "markdown",
      "id": "441363ab",
      "metadata": {
        "id": "441363ab"
      },
      "source": [
        "**Perform a complete residual check.**\n",
        "\n",
        "There are some issues with adequacy. The plot of the residuals does show some structure and the QQ plot doesn't appear to be normal. When using the Barttlet test we can see that the null is rejected."
      ]
    },
    {
      "cell_type": "markdown",
      "id": "d1cc85f6",
      "metadata": {
        "id": "d1cc85f6"
      },
      "source": [
        "-----------------------------------------------------------------------------------------------------------------"
      ]
    },
    {
      "cell_type": "markdown",
      "id": "1278ea6a",
      "metadata": {
        "id": "1278ea6a"
      },
      "source": [
        "**Question 9**\n",
        "\n",
        "The quality control depoartment of a fobric finishing plant is studying the effect of several factors on the dyeing of cotton-synthetic cloth used to manufacture men's shirts. Three operators, three cycle times, and two temperatures were selected, and three small specimens of cloth were dyed under each set of conditions. The finished cloth was compared to a standard, and a numerical score was assigned. The results follow. Analyze the data and draw conclusions. Comment on the model's adequacy.\n",
        "\n",
        "Set up a data frame \"fabric\" with 3 factors"
      ]
    },
    {
      "cell_type": "code",
      "execution_count": null,
      "id": "c97ed9e3",
      "metadata": {
        "id": "c97ed9e3",
        "outputId": "b6e62cd7-a3e0-42b1-9306-8b0b5e11ef07"
      },
      "outputs": [
        {
          "data": {
            "text/html": [
              "<table>\n",
              "<thead><tr><th scope=col>Cycle.Time</th><th scope=col>Operator</th><th scope=col>Temperature</th><th scope=col>Score</th></tr></thead>\n",
              "<tbody>\n",
              "\t<tr><td>40 </td><td>1  </td><td>300</td><td>23 </td></tr>\n",
              "\t<tr><td>40 </td><td>1  </td><td>300</td><td>24 </td></tr>\n",
              "\t<tr><td>40 </td><td>1  </td><td>300</td><td>25 </td></tr>\n",
              "\t<tr><td>50 </td><td>1  </td><td>300</td><td>36 </td></tr>\n",
              "\t<tr><td>50 </td><td>1  </td><td>300</td><td>35 </td></tr>\n",
              "\t<tr><td>50 </td><td>1  </td><td>300</td><td>36 </td></tr>\n",
              "</tbody>\n",
              "</table>\n"
            ],
            "text/latex": [
              "\\begin{tabular}{r|llll}\n",
              " Cycle.Time & Operator & Temperature & Score\\\\\n",
              "\\hline\n",
              "\t 40  & 1   & 300 & 23 \\\\\n",
              "\t 40  & 1   & 300 & 24 \\\\\n",
              "\t 40  & 1   & 300 & 25 \\\\\n",
              "\t 50  & 1   & 300 & 36 \\\\\n",
              "\t 50  & 1   & 300 & 35 \\\\\n",
              "\t 50  & 1   & 300 & 36 \\\\\n",
              "\\end{tabular}\n"
            ],
            "text/markdown": [
              "\n",
              "| Cycle.Time | Operator | Temperature | Score |\n",
              "|---|---|---|---|\n",
              "| 40  | 1   | 300 | 23  |\n",
              "| 40  | 1   | 300 | 24  |\n",
              "| 40  | 1   | 300 | 25  |\n",
              "| 50  | 1   | 300 | 36  |\n",
              "| 50  | 1   | 300 | 35  |\n",
              "| 50  | 1   | 300 | 36  |\n",
              "\n"
            ],
            "text/plain": [
              "  Cycle.Time Operator Temperature Score\n",
              "1 40         1        300         23   \n",
              "2 40         1        300         24   \n",
              "3 40         1        300         25   \n",
              "4 50         1        300         36   \n",
              "5 50         1        300         35   \n",
              "6 50         1        300         36   "
            ]
          },
          "metadata": {},
          "output_type": "display_data"
        }
      ],
      "source": [
        "# Read data from the working directory. Construct the data frame and needed vectors\n",
        "data9  <- read.csv('Mid Term Question 9.csv')\n",
        "head(data9)\n",
        "fabric <- data9\n",
        "cycletime <- fabric$Cycle.Time\n",
        "operator <- factor(fabric$Operator)\n",
        "temp <- fabric$Temperature\n",
        "score <- fabric$Score"
      ]
    },
    {
      "cell_type": "code",
      "execution_count": null,
      "id": "f19b83e4",
      "metadata": {
        "scrolled": true,
        "id": "f19b83e4",
        "outputId": "3e5d610a-de34-400d-bada-2e2d72c7442f"
      },
      "outputs": [
        {
          "data": {
            "text/plain": [
              "Call:\n",
              "   aov(formula = score ~ cycletime + operator + temp + cycletime * \n",
              "    operator * temp)\n",
              "\n",
              "Terms:\n",
              "                cycletime operator     temp cycletime:operator cycletime:temp\n",
              "Sum of Squares     4.0000 261.3333  50.0741           213.5000        53.7778\n",
              "Deg. of Freedom         1        2        1                  2              1\n",
              "                operator:temp cycletime:operator:temp Residuals\n",
              "Sum of Squares        11.2593                 22.7222  740.6667\n",
              "Deg. of Freedom             2                       2        42\n",
              "\n",
              "Residual standard error: 4.199395\n",
              "Estimated effects may be unbalanced"
            ]
          },
          "metadata": {},
          "output_type": "display_data"
        },
        {
          "data": {
            "text/plain": [
              "                        Df Sum Sq Mean Sq F value  Pr(>F)   \n",
              "cycletime                1    4.0    4.00   0.227 0.63636   \n",
              "operator                 2  261.3  130.67   7.410 0.00175 **\n",
              "temp                     1   50.1   50.07   2.839 0.09939 . \n",
              "cycletime:operator       2  213.5  106.75   6.053 0.00490 **\n",
              "cycletime:temp           1   53.8   53.78   3.050 0.08807 . \n",
              "operator:temp            2   11.3    5.63   0.319 0.72845   \n",
              "cycletime:operator:temp  2   22.7   11.36   0.644 0.53017   \n",
              "Residuals               42  740.7   17.63                   \n",
              "---\n",
              "Signif. codes:  0 '***' 0.001 '**' 0.01 '*' 0.05 '.' 0.1 ' ' 1"
            ]
          },
          "metadata": {},
          "output_type": "display_data"
        },
        {
          "data": {
            "text/plain": [
              "\n",
              "Call:\n",
              "aov(formula = score ~ cycletime + operator + temp + cycletime * \n",
              "    operator * temp)\n",
              "\n",
              "Residuals:\n",
              "   Min     1Q Median     3Q    Max \n",
              "-5.833 -2.667 -1.028  1.958  9.444 \n",
              "\n",
              "Coefficients:\n",
              "                           Estimate Std. Error t value Pr(>|t|)\n",
              "(Intercept)               7.500e+00  8.008e+01   0.094    0.926\n",
              "cycletime                 3.167e-01  1.581e+00   0.200    0.842\n",
              "operator2                -1.374e+02  1.132e+02  -1.214    0.232\n",
              "operator3                -6.128e+01  1.132e+02  -0.541    0.591\n",
              "temp                      5.111e-02  2.457e-01   0.208    0.836\n",
              "cycletime:operator2       2.567e+00  2.235e+00   1.148    0.257\n",
              "cycletime:operator3       1.150e+00  2.235e+00   0.514    0.610\n",
              "cycletime:temp           -6.667e-04  4.849e-03  -0.137    0.891\n",
              "operator2:temp            4.278e-01  3.474e-01   1.231    0.225\n",
              "operator3:temp            2.678e-01  3.474e-01   0.771    0.445\n",
              "cycletime:operator2:temp -7.667e-03  6.858e-03  -1.118    0.270\n",
              "cycletime:operator3:temp -5.000e-03  6.858e-03  -0.729    0.470\n",
              "\n",
              "Residual standard error: 4.199 on 42 degrees of freedom\n",
              "Multiple R-squared:  0.4543,\tAdjusted R-squared:  0.3114 \n",
              "F-statistic: 3.179 on 11 and 42 DF,  p-value: 0.003277\n"
            ]
          },
          "metadata": {},
          "output_type": "display_data"
        }
      ],
      "source": [
        "# Construct the model and output its summaries\n",
        "model9 <- aov(score ~ cycletime + operator + temp + cycletime*operator*temp)\n",
        "model9\n",
        "summary(model9)\n",
        "summary.lm(model9)"
      ]
    },
    {
      "cell_type": "code",
      "execution_count": null,
      "id": "e426bd1a",
      "metadata": {
        "scrolled": true,
        "id": "e426bd1a",
        "outputId": "77a9b98c-fa54-4265-f340-13d7adac3063"
      },
      "outputs": [
        {
          "data": {
            "image/png": "[encoded data removed]",
            "text/plain": [
              "plot without title"
            ]
          },
          "metadata": {},
          "output_type": "display_data"
        },
        {
          "data": {
            "image/png": "[encoded data removed]",
            "text/plain": [
              "plot without title"
            ]
          },
          "metadata": {},
          "output_type": "display_data"
        }
      ],
      "source": [
        "# Check for interactions between factors using interactions plots\n",
        "interaction.plot(cycletime,operator,score,type=\"b\",pch=19,fixed=T)\n",
        "interaction.plot(operator,cycletime,score,type=\"b\",pch=19,fixed=T)"
      ]
    },
    {
      "cell_type": "code",
      "execution_count": null,
      "id": "ea34915c",
      "metadata": {
        "scrolled": true,
        "id": "ea34915c",
        "outputId": "2c301a89-516b-441b-f34e-b144ea807dd2"
      },
      "outputs": [
        {
          "data": {
            "image/png": "[encoded data removed]",
            "text/plain": [
              "plot without title"
            ]
          },
          "metadata": {},
          "output_type": "display_data"
        },
        {
          "data": {
            "text/plain": [
              "\n",
              "\tBartlett test of homogeneity of variances\n",
              "\n",
              "data:  model9$residuals by temp\n",
              "Bartlett's K-squared = 0.13708, df = 1, p-value = 0.7112\n"
            ]
          },
          "metadata": {},
          "output_type": "display_data"
        },
        {
          "data": {
            "image/png": "[encoded data removed]",
            "text/plain": [
              "Plot with title \"Normal Q-Q Plot\""
            ]
          },
          "metadata": {},
          "output_type": "display_data"
        }
      ],
      "source": [
        "# Check for model adequacy by plotting the residuals and the QQ of the residuals\n",
        "plot(model9$residuals)\n",
        "qqnorm(model9$residuals)\n",
        "qqline(model9$residuals)\n",
        "bartlett.test(model9$residuals ~ temp)"
      ]
    },
    {
      "cell_type": "code",
      "execution_count": null,
      "id": "9e60ed1b",
      "metadata": {
        "scrolled": true,
        "id": "9e60ed1b",
        "outputId": "bf0dd690-6526-4b65-efa1-6e2d662198f6"
      },
      "outputs": [
        {
          "data": {
            "text/plain": [
              "Call:\n",
              "   aov(formula = score ~ cycletime + operator + temp)\n",
              "\n",
              "Terms:\n",
              "                cycletime  operator      temp Residuals\n",
              "Sum of Squares     4.0000  261.3333   50.0741 1041.9259\n",
              "Deg. of Freedom         1         2         1        49\n",
              "\n",
              "Residual standard error: 4.611268\n",
              "Estimated effects may be unbalanced"
            ]
          },
          "metadata": {},
          "output_type": "display_data"
        },
        {
          "data": {
            "text/plain": [
              "            Df Sum Sq Mean Sq F value  Pr(>F)   \n",
              "cycletime    1    4.0    4.00   0.188 0.66640   \n",
              "operator     2  261.3  130.67   6.145 0.00416 **\n",
              "temp         1   50.1   50.07   2.355 0.13132   \n",
              "Residuals   49 1041.9   21.26                   \n",
              "---\n",
              "Signif. codes:  0 '***' 0.001 '**' 0.01 '*' 0.05 '.' 0.1 ' ' 1"
            ]
          },
          "metadata": {},
          "output_type": "display_data"
        },
        {
          "data": {
            "text/plain": [
              "\n",
              "Call:\n",
              "aov(formula = score ~ cycletime + operator + temp)\n",
              "\n",
              "Residuals:\n",
              "    Min      1Q  Median      3Q     Max \n",
              "-7.8148 -3.7407  0.3889  2.7870  8.9259 \n",
              "\n",
              "Coefficients:\n",
              "            Estimate Std. Error t value Pr(>|t|)   \n",
              "(Intercept) 18.25926    9.08271   2.010   0.0499 * \n",
              "cycletime   -0.03333    0.07685  -0.434   0.6664   \n",
              "operator2    5.33333    1.53709   3.470   0.0011 **\n",
              "operator3    2.00000    1.53709   1.301   0.1993   \n",
              "temp         0.03852    0.02510   1.535   0.1313   \n",
              "---\n",
              "Signif. codes:  0 '***' 0.001 '**' 0.01 '*' 0.05 '.' 0.1 ' ' 1\n",
              "\n",
              "Residual standard error: 4.611 on 49 degrees of freedom\n",
              "Multiple R-squared:  0.2324,\tAdjusted R-squared:  0.1697 \n",
              "F-statistic: 3.708 on 4 and 49 DF,  p-value: 0.01028\n"
            ]
          },
          "metadata": {},
          "output_type": "display_data"
        }
      ],
      "source": [
        "# Construct a reduced model and output its summaries\n",
        "model9.1 <- aov(score ~ cycletime + operator + temp)\n",
        "model9.1\n",
        "summary(model9.1)\n",
        "summary.lm(model9.1)"
      ]
    },
    {
      "cell_type": "markdown",
      "id": "1bbd66d7",
      "metadata": {
        "id": "1bbd66d7"
      },
      "source": [
        "**Build a regression model. Any interaction among factors?**\n",
        "\n",
        "Yes there does appear to be interactions among the factors. There is an interaction between cycletime 40 to 60 and operator 2 to 3. There also appears to be an interaction with operator 3 with 1 and 2 when measuring the means from cycletime 40 to 60."
      ]
    },
    {
      "cell_type": "markdown",
      "id": "959444ed",
      "metadata": {
        "id": "959444ed"
      },
      "source": [
        "**Which factor can be used as Blocking factor?**\n",
        "\n",
        "Cycletime, Operator and temperature could all possibly be used as a blocking factor. But the biggest nucience probably comes from Operator. So using Operator as a blocking factor would be a good way to parse out the noise associated with differences between Operators."
      ]
    },
    {
      "cell_type": "markdown",
      "id": "cd894e0e",
      "metadata": {
        "id": "cd894e0e"
      },
      "source": [
        "**Is the Blocking factor effective?**\n",
        "\n",
        "Yes. Using Operator as the blocking factor is effective. The summary output for the aov shows that Operator is significant at the .001 alpha level."
      ]
    },
    {
      "cell_type": "markdown",
      "id": "56449c75",
      "metadata": {
        "id": "56449c75"
      },
      "source": [
        "**Consider any reduced model?**\n",
        "\n",
        "A reduced model is not adequate. The multiple r is significantly lower showing that it is not better as explaining the variance"
      ]
    },
    {
      "cell_type": "markdown",
      "id": "15c09ed3",
      "metadata": {
        "id": "15c09ed3"
      },
      "source": [
        "**Do a complete 3-part residual assumption check.**\n",
        "\n",
        "The residuals plot looks good. The residuals appear to be random and structureless. The QQ plot of the residuals also looks good. Normality can be assumed. If we test normality given temp we cannot reject the null."
      ]
    },
    {
      "cell_type": "markdown",
      "id": "8af0c3a1",
      "metadata": {
        "id": "8af0c3a1"
      },
      "source": [
        "-----------------------------------------------------------------------------------------------------------------"
      ]
    },
    {
      "cell_type": "markdown",
      "id": "6321f1fb",
      "metadata": {
        "id": "6321f1fb"
      },
      "source": [
        "**Question 10**\n",
        "\n",
        "The effect of five different ingredients (A,B,C,D,E) on the reaction time of a chemical process is being studied. Each batch of new material is only large enough to permit five runs to be made. Furthermore, each run requires approximately 1 1/2 hours, so only five runs tcan be made in one day. The expe4rimenter decides to run the experiment as a Latin square so that day and btach effects may be systematically controlled. She obtains the data that follow. Analyze the data from this experiment (use 𝛼 = 0.05) and draw conclusions.\n",
        "\n",
        "Set up a data frame. “chemical”. Use Day and Batch columns and row, in Latin square design. Ingredient as Treatment. Either enter manually or use design.lsd() [If use design.lsd(), must enter the response values in order given by data]"
      ]
    },
    {
      "cell_type": "code",
      "execution_count": null,
      "id": "b2cb16ea",
      "metadata": {
        "id": "b2cb16ea",
        "outputId": "6c77b272-49a2-41e0-b3ee-bcd310ab4644"
      },
      "outputs": [
        {
          "data": {
            "text/html": [
              "<table>\n",
              "<thead><tr><th scope=col>Batch</th><th scope=col>Day</th><th scope=col>Catalyst</th><th scope=col>Time</th></tr></thead>\n",
              "<tbody>\n",
              "\t<tr><td>1 </td><td>1 </td><td>A </td><td> 8</td></tr>\n",
              "\t<tr><td>2 </td><td>1 </td><td>C </td><td>11</td></tr>\n",
              "\t<tr><td>3 </td><td>1 </td><td>B </td><td> 4</td></tr>\n",
              "\t<tr><td>4 </td><td>1 </td><td>D </td><td> 6</td></tr>\n",
              "\t<tr><td>5 </td><td>1 </td><td>E </td><td> 4</td></tr>\n",
              "\t<tr><td>1 </td><td>2 </td><td>B </td><td> 7</td></tr>\n",
              "</tbody>\n",
              "</table>\n"
            ],
            "text/latex": [
              "\\begin{tabular}{r|llll}\n",
              " Batch & Day & Catalyst & Time\\\\\n",
              "\\hline\n",
              "\t 1  & 1  & A  &  8\\\\\n",
              "\t 2  & 1  & C  & 11\\\\\n",
              "\t 3  & 1  & B  &  4\\\\\n",
              "\t 4  & 1  & D  &  6\\\\\n",
              "\t 5  & 1  & E  &  4\\\\\n",
              "\t 1  & 2  & B  &  7\\\\\n",
              "\\end{tabular}\n"
            ],
            "text/markdown": [
              "\n",
              "| Batch | Day | Catalyst | Time |\n",
              "|---|---|---|---|\n",
              "| 1  | 1  | A  |  8 |\n",
              "| 2  | 1  | C  | 11 |\n",
              "| 3  | 1  | B  |  4 |\n",
              "| 4  | 1  | D  |  6 |\n",
              "| 5  | 1  | E  |  4 |\n",
              "| 1  | 2  | B  |  7 |\n",
              "\n"
            ],
            "text/plain": [
              "  Batch Day Catalyst Time\n",
              "1 1     1   A         8  \n",
              "2 2     1   C        11  \n",
              "3 3     1   B         4  \n",
              "4 4     1   D         6  \n",
              "5 5     1   E         4  \n",
              "6 1     2   B         7  "
            ]
          },
          "metadata": {},
          "output_type": "display_data"
        }
      ],
      "source": [
        "data10  <- read.csv('Mid Term Question 10.csv')\n",
        "head(data10)\n",
        "chemical <- data10\n",
        "time <- chemical$Time\n",
        "batch <- chemical$Batch\n",
        "day <- chemical$Day\n",
        "catalyst <- chemical$Catalyst"
      ]
    },
    {
      "cell_type": "code",
      "execution_count": null,
      "id": "7b8f6528",
      "metadata": {
        "id": "7b8f6528",
        "outputId": "66f0decf-5545-4548-9383-fcb3e387642f"
      },
      "outputs": [
        {
          "data": {
            "text/plain": [
              "Call:\n",
              "   aov(formula = time ~ batch + day + catalyst + catalyst * batch * \n",
              "    day)\n",
              "\n",
              "Terms:\n",
              "                    batch       day  catalyst batch:catalyst day:catalyst\n",
              "Sum of Squares    0.18000   0.02000 141.44000       17.50114     11.47883\n",
              "Deg. of Freedom         1         1         4              4            4\n",
              "                batch:day batch:day:catalyst Residuals\n",
              "Sum of Squares    0.87242            2.91554  32.23207\n",
              "Deg. of Freedom         1                  4         5\n",
              "\n",
              "Residual standard error: 2.538979\n",
              "Estimated effects may be unbalanced"
            ]
          },
          "metadata": {},
          "output_type": "display_data"
        },
        {
          "data": {
            "text/plain": [
              "                   Df Sum Sq Mean Sq F value Pr(>F)  \n",
              "batch               1   0.18    0.18   0.028 0.8738  \n",
              "day                 1   0.02    0.02   0.003 0.9577  \n",
              "catalyst            4 141.44   35.36   5.485 0.0451 *\n",
              "batch:catalyst      4  17.50    4.38   0.679 0.6356  \n",
              "day:catalyst        4  11.48    2.87   0.445 0.7735  \n",
              "batch:day           1   0.87    0.87   0.135 0.7280  \n",
              "batch:day:catalyst  4   2.92    0.73   0.113 0.9724  \n",
              "Residuals           5  32.23    6.45                 \n",
              "---\n",
              "Signif. codes:  0 '***' 0.001 '**' 0.01 '*' 0.05 '.' 0.1 ' ' 1"
            ]
          },
          "metadata": {},
          "output_type": "display_data"
        },
        {
          "data": {
            "text/plain": [
              "\n",
              "Call:\n",
              "aov(formula = time ~ batch + day + catalyst + catalyst * batch * \n",
              "    day)\n",
              "\n",
              "Residuals:\n",
              "         1          2          3          4          5          6          7 \n",
              "-3.053e-16 -2.010e-01  2.740e-01  2.400e+00 -5.588e-01 -2.144e-01 -7.249e-16 \n",
              "         8          9         10         11         12         13         14 \n",
              " 1.000e+00 -5.628e-01 -2.400e+00 -1.200e+00 -1.000e+00  1.467e+00  2.235e+00 \n",
              "        15         16         17         18         19         20         21 \n",
              "-4.169e-01 -4.422e-01 -5.495e-15 -2.235e+00  3.812e-01 -1.000e+00  5.588e-01 \n",
              "        22         23         24         25 \n",
              "-2.382e-02  1.200e+00  1.000e+00 -2.613e-01 \n",
              "\n",
              "Coefficients:\n",
              "                    Estimate Std. Error t value Pr(>|t|)\n",
              "(Intercept)          8.31818    5.90840   1.408    0.218\n",
              "batch               -0.22727    2.60628  -0.087    0.934\n",
              "day                 -0.22727    2.60628  -0.087    0.934\n",
              "catalystB           -0.34780    9.97341  -0.035    0.974\n",
              "catalystC            7.30256    9.92056   0.736    0.495\n",
              "catalystD           -7.31818   32.03698  -0.228    0.828\n",
              "catalystE           -9.08741    9.75003  -0.932    0.394\n",
              "batch:catalystB     -1.49262    4.04739  -0.369    0.727\n",
              "batch:catalystC     -1.38444    3.73709  -0.370    0.726\n",
              "batch:catalystD      0.82727    8.74151   0.095    0.928\n",
              "batch:catalystE      1.29967    3.17665   0.409    0.699\n",
              "day:catalystB        0.49257    3.72704   0.132    0.900\n",
              "day:catalystC       -1.85982    3.38095  -0.550    0.606\n",
              "day:catalystD        0.42727   10.72812   0.040    0.970\n",
              "day:catalystE        0.77026    3.17665   0.242    0.818\n",
              "batch:day            0.13636    0.77418   0.176    0.867\n",
              "batch:day:catalystB  0.08031    1.27543   0.063    0.952\n",
              "batch:day:catalystC  0.30902    1.01319   0.305    0.773\n",
              "batch:day:catalystD -0.13636    3.20452  -0.043    0.968\n",
              "batch:day:catalystE -0.25175    0.94098  -0.268    0.800\n",
              "\n",
              "Residual standard error: 2.539 on 5 degrees of freedom\n",
              "Multiple R-squared:  0.844,\tAdjusted R-squared:  0.2513 \n",
              "F-statistic: 1.424 on 19 and 5 DF,  p-value: 0.3714\n"
            ]
          },
          "metadata": {},
          "output_type": "display_data"
        },
        {
          "data": {
            "text/html": [
              "<table>\n",
              "<thead><tr><th></th><th scope=col>Df</th><th scope=col>Sum Sq</th><th scope=col>Mean Sq</th><th scope=col>F value</th><th scope=col>Pr(&gt;F)</th></tr></thead>\n",
              "<tbody>\n",
              "\t<tr><th scope=row>batch</th><td>1          </td><td>  0.1800000</td><td> 0.1800000 </td><td>0.0279225  </td><td>0.87383901 </td></tr>\n",
              "\t<tr><th scope=row>day</th><td>1          </td><td>  0.0200000</td><td> 0.0200000 </td><td>0.0031025  </td><td>0.95773797 </td></tr>\n",
              "\t<tr><th scope=row>catalyst</th><td>4          </td><td>141.4400000</td><td>35.3600000 </td><td>5.4852194  </td><td>0.04505059 </td></tr>\n",
              "\t<tr><th scope=row>batch:catalyst</th><td>4          </td><td> 17.5011364</td><td> 4.3752841 </td><td>0.6787159  </td><td>0.63563048 </td></tr>\n",
              "\t<tr><th scope=row>day:catalyst</th><td>4          </td><td> 11.4788301</td><td> 2.8697075 </td><td>0.4451633  </td><td>0.77346879 </td></tr>\n",
              "\t<tr><th scope=row>batch:day</th><td>1          </td><td>  0.8724226</td><td> 0.8724226 </td><td>0.1353345  </td><td>0.72802364 </td></tr>\n",
              "\t<tr><th scope=row>batch:day:catalyst</th><td>4          </td><td>  2.9155367</td><td> 0.7288842 </td><td>0.1130681  </td><td>0.97235393 </td></tr>\n",
              "\t<tr><th scope=row>Residuals</th><td>5          </td><td> 32.2320742</td><td> 6.4464148 </td><td>       NA  </td><td>        NA </td></tr>\n",
              "</tbody>\n",
              "</table>\n"
            ],
            "text/latex": [
              "\\begin{tabular}{r|lllll}\n",
              "  & Df & Sum Sq & Mean Sq & F value & Pr(>F)\\\\\n",
              "\\hline\n",
              "\tbatch & 1           &   0.1800000 &  0.1800000  & 0.0279225   & 0.87383901 \\\\\n",
              "\tday & 1           &   0.0200000 &  0.0200000  & 0.0031025   & 0.95773797 \\\\\n",
              "\tcatalyst & 4           & 141.4400000 & 35.3600000  & 5.4852194   & 0.04505059 \\\\\n",
              "\tbatch:catalyst & 4           &  17.5011364 &  4.3752841  & 0.6787159   & 0.63563048 \\\\\n",
              "\tday:catalyst & 4           &  11.4788301 &  2.8697075  & 0.4451633   & 0.77346879 \\\\\n",
              "\tbatch:day & 1           &   0.8724226 &  0.8724226  & 0.1353345   & 0.72802364 \\\\\n",
              "\tbatch:day:catalyst & 4           &   2.9155367 &  0.7288842  & 0.1130681   & 0.97235393 \\\\\n",
              "\tResiduals & 5           &  32.2320742 &  6.4464148  &        NA   &         NA \\\\\n",
              "\\end{tabular}\n"
            ],
            "text/markdown": [
              "\n",
              "| <!--/--> | Df | Sum Sq | Mean Sq | F value | Pr(>F) |\n",
              "|---|---|---|---|---|---|\n",
              "| batch | 1           |   0.1800000 |  0.1800000  | 0.0279225   | 0.87383901  |\n",
              "| day | 1           |   0.0200000 |  0.0200000  | 0.0031025   | 0.95773797  |\n",
              "| catalyst | 4           | 141.4400000 | 35.3600000  | 5.4852194   | 0.04505059  |\n",
              "| batch:catalyst | 4           |  17.5011364 |  4.3752841  | 0.6787159   | 0.63563048  |\n",
              "| day:catalyst | 4           |  11.4788301 |  2.8697075  | 0.4451633   | 0.77346879  |\n",
              "| batch:day | 1           |   0.8724226 |  0.8724226  | 0.1353345   | 0.72802364  |\n",
              "| batch:day:catalyst | 4           |   2.9155367 |  0.7288842  | 0.1130681   | 0.97235393  |\n",
              "| Residuals | 5           |  32.2320742 |  6.4464148  |        NA   |         NA  |\n",
              "\n"
            ],
            "text/plain": [
              "                   Df Sum Sq      Mean Sq    F value   Pr(>F)    \n",
              "batch              1    0.1800000  0.1800000 0.0279225 0.87383901\n",
              "day                1    0.0200000  0.0200000 0.0031025 0.95773797\n",
              "catalyst           4  141.4400000 35.3600000 5.4852194 0.04505059\n",
              "batch:catalyst     4   17.5011364  4.3752841 0.6787159 0.63563048\n",
              "day:catalyst       4   11.4788301  2.8697075 0.4451633 0.77346879\n",
              "batch:day          1    0.8724226  0.8724226 0.1353345 0.72802364\n",
              "batch:day:catalyst 4    2.9155367  0.7288842 0.1130681 0.97235393\n",
              "Residuals          5   32.2320742  6.4464148        NA         NA"
            ]
          },
          "metadata": {},
          "output_type": "display_data"
        }
      ],
      "source": [
        "# Construct a reduced model and output its summaries\n",
        "model10 <- aov(time ~ batch + day + catalyst + catalyst*batch*day)\n",
        "model10\n",
        "summary(model10)\n",
        "summary.lm(model10)\n",
        "anova(model10)"
      ]
    },
    {
      "cell_type": "markdown",
      "id": "97523ea8",
      "metadata": {
        "id": "97523ea8"
      },
      "source": [
        "**Build a linear model, using aov(). Does the ingredients affect the reaction time?**"
      ]
    },
    {
      "cell_type": "markdown",
      "id": "17bc6819",
      "metadata": {
        "id": "17bc6819"
      },
      "source": [
        "**Are Day, Batch effective Blocking factors? Check interaction between Day and Batch.**"
      ]
    },
    {
      "cell_type": "markdown",
      "id": "5dc103bf",
      "metadata": {
        "id": "5dc103bf"
      },
      "source": [
        "**Find the lowest reaction time.**"
      ]
    },
    {
      "cell_type": "markdown",
      "id": "bffbb3c8",
      "metadata": {
        "id": "bffbb3c8"
      },
      "source": [
        "**Perform residual check.**"
      ]
    }
  ],
  "metadata": {
    "kernelspec": {
      "display_name": "R",
      "language": "R",
      "name": "ir"
    },
    "language_info": {
      "codemirror_mode": "r",
      "file_extension": ".r",
      "mimetype": "text/x-r-source",
      "name": "R",
      "pygments_lexer": "r",
      "version": "3.6.1"
    },
    "colab": {
      "provenance": []
    }
  },
  "nbformat": 4,
  "nbformat_minor": 5
}